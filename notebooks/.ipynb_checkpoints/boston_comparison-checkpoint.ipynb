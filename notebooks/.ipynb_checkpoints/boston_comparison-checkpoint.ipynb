{
 "metadata": {
  "name": "",
  "signature": "sha256:8255d97fab0fef39ee716c22485b58058d8be497538e95ce15395ebbb75ae20a"
 },
 "nbformat": 3,
 "nbformat_minor": 0,
 "worksheets": [
  {
   "cells": [
    {
     "cell_type": "heading",
     "level": 1,
     "metadata": {},
     "source": [
      "Importing and Formating Our Data"
     ]
    },
    {
     "cell_type": "code",
     "collapsed": false,
     "input": [
      "import graphlab as gl\n",
      "\n",
      "baseline_path = \"/Users/Logan/Code/rumor_analytics/csv/baseline_jan6_e_wNames.csv\"\n",
      "rumor_path = \"/Users/Logan/Code/rumor_analytics/baseline_compare_e_wNames.csv\"\n",
      "rumor_vert_path = \"/Users/Logan/Code/rumor_analytics/baseline_compare_v.csv\"\n",
      "\n",
      "baseline_edges = gl.SFrame.read_csv(baseline_path, True)\n",
      "rumor_edges = gl.SFrame.read_csv(rumor_path, True)\n",
      "rumor_verts = gl.SFrame.read_csv(rumor_vert_path, True)\n",
      "#Let's see what we have imported.\n",
      "baseline_edges.head()\n",
      "rumor_edges.head()"
     ],
     "language": "python",
     "metadata": {},
     "outputs": [
      {
       "output_type": "stream",
       "stream": "stderr",
       "text": [
        "[WARNING] Numpy version 1.6.2 is not supported. Minimum required version: 1.8.0. Numpy support will be disabled.\n"
       ]
      },
      {
       "output_type": "stream",
       "stream": "stderr",
       "text": [
        "[INFO] Start server at: ipc:///tmp/graphlab_server-53862 - Server binary: /Library/Python/2.7/site-packages/graphlab/unity_server - Server log: /tmp/graphlab_server_1421279031.log\n"
       ]
      },
      {
       "output_type": "stream",
       "stream": "stderr",
       "text": [
        "[INFO] GraphLab Server Version: 1.2.1\n"
       ]
      },
      {
       "html": [
        "<pre>PROGRESS: Finished parsing file /Users/Logan/Code/rumor_analytics/csv/baseline_jan6_e_wNames.csv</pre>"
       ],
       "metadata": {},
       "output_type": "display_data",
       "text": [
        "PROGRESS: Finished parsing file /Users/Logan/Code/rumor_analytics/csv/baseline_jan6_e_wNames.csv"
       ]
      },
      {
       "html": [
        "<pre>PROGRESS: Parsing completed. Parsed 100 lines in 0.99328 secs.</pre>"
       ],
       "metadata": {},
       "output_type": "display_data",
       "text": [
        "PROGRESS: Parsing completed. Parsed 100 lines in 0.99328 secs."
       ]
      },
      {
       "output_type": "stream",
       "stream": "stdout",
       "text": [
        "cannot import name hashtable\n",
        "Could not detect types. Using str for each column."
       ]
      },
      {
       "html": [
        "<pre>PROGRESS: Finished parsing file /Users/Logan/Code/rumor_analytics/csv/baseline_jan6_e_wNames.csv</pre>"
       ],
       "metadata": {},
       "output_type": "display_data",
       "text": [
        "PROGRESS: Finished parsing file /Users/Logan/Code/rumor_analytics/csv/baseline_jan6_e_wNames.csv"
       ]
      },
      {
       "html": [
        "<pre>PROGRESS: Parsing completed. Parsed 3047383 lines in 2.73495 secs.</pre>"
       ],
       "metadata": {},
       "output_type": "display_data",
       "text": [
        "PROGRESS: Parsing completed. Parsed 3047383 lines in 2.73495 secs."
       ]
      },
      {
       "html": [
        "<pre>PROGRESS: Finished parsing file /Users/Logan/Code/rumor_analytics/baseline_compare_e_wNames.csv</pre>"
       ],
       "metadata": {},
       "output_type": "display_data",
       "text": [
        "PROGRESS: Finished parsing file /Users/Logan/Code/rumor_analytics/baseline_compare_e_wNames.csv"
       ]
      },
      {
       "html": [
        "<pre>PROGRESS: Parsing completed. Parsed 100 lines in 0.645623 secs.</pre>"
       ],
       "metadata": {},
       "output_type": "display_data",
       "text": [
        "PROGRESS: Parsing completed. Parsed 100 lines in 0.645623 secs."
       ]
      },
      {
       "output_type": "stream",
       "stream": "stdout",
       "text": [
        "\n",
        "Could not detect types. Using str for each column."
       ]
      },
      {
       "html": [
        "<pre>PROGRESS: Finished parsing file /Users/Logan/Code/rumor_analytics/baseline_compare_e_wNames.csv</pre>"
       ],
       "metadata": {},
       "output_type": "display_data",
       "text": [
        "PROGRESS: Finished parsing file /Users/Logan/Code/rumor_analytics/baseline_compare_e_wNames.csv"
       ]
      },
      {
       "html": [
        "<pre>PROGRESS: Parsing completed. Parsed 2056997 lines in 1.9111 secs.</pre>"
       ],
       "metadata": {},
       "output_type": "display_data",
       "text": [
        "PROGRESS: Parsing completed. Parsed 2056997 lines in 1.9111 secs."
       ]
      },
      {
       "html": [
        "<pre>PROGRESS: Finished parsing file /Users/Logan/Code/rumor_analytics/baseline_compare_v.csv</pre>"
       ],
       "metadata": {},
       "output_type": "display_data",
       "text": [
        "PROGRESS: Finished parsing file /Users/Logan/Code/rumor_analytics/baseline_compare_v.csv"
       ]
      },
      {
       "html": [
        "<pre>PROGRESS: Parsing completed. Parsed 100 lines in 0.037366 secs.</pre>"
       ],
       "metadata": {},
       "output_type": "display_data",
       "text": [
        "PROGRESS: Parsing completed. Parsed 100 lines in 0.037366 secs."
       ]
      },
      {
       "output_type": "stream",
       "stream": "stdout",
       "text": [
        "\n",
        "Could not detect types. Using str for each column."
       ]
      },
      {
       "html": [
        "<pre>PROGRESS: Finished parsing file /Users/Logan/Code/rumor_analytics/baseline_compare_v.csv</pre>"
       ],
       "metadata": {},
       "output_type": "display_data",
       "text": [
        "PROGRESS: Finished parsing file /Users/Logan/Code/rumor_analytics/baseline_compare_v.csv"
       ]
      },
      {
       "html": [
        "<pre>PROGRESS: Parsing completed. Parsed 89153 lines in 0.098495 secs.</pre>"
       ],
       "metadata": {},
       "output_type": "display_data",
       "text": [
        "PROGRESS: Parsing completed. Parsed 89153 lines in 0.098495 secs."
       ]
      },
      {
       "output_type": "stream",
       "stream": "stdout",
       "text": [
        "\n"
       ]
      },
      {
       "html": [
        "<div style=\"max-height:1000px;max-width:1500px;overflow:auto;\"><table frame=\"box\" rules=\"cols\">\n",
        "    <tr>\n",
        "        <th style=\"padding-left: 1em; padding-right: 1em; text-align: center\">Word 1</th>\n",
        "        <th style=\"padding-left: 1em; padding-right: 1em; text-align: center\">Word 2</th>\n",
        "        <th style=\"padding-left: 1em; padding-right: 1em; text-align: center\">Co-occurrence</th>\n",
        "    </tr>\n",
        "    <tr>\n",
        "        <td style=\"padding-left: 1em; padding-right: 1em; text-align: center; vertical-align: top\">happi</td>\n",
        "        <td style=\"padding-left: 1em; padding-right: 1em; text-align: center; vertical-align: top\">anniversari</td>\n",
        "        <td style=\"padding-left: 1em; padding-right: 1em; text-align: center; vertical-align: top\">18</td>\n",
        "    </tr>\n",
        "    <tr>\n",
        "        <td style=\"padding-left: 1em; padding-right: 1em; text-align: center; vertical-align: top\">wit</td>\n",
        "        <td style=\"padding-left: 1em; padding-right: 1em; text-align: center; vertical-align: top\">polic</td>\n",
        "        <td style=\"padding-left: 1em; padding-right: 1em; text-align: center; vertical-align: top\">547</td>\n",
        "    </tr>\n",
        "    <tr>\n",
        "        <td style=\"padding-left: 1em; padding-right: 1em; text-align: center; vertical-align: top\">sunil</td>\n",
        "        <td style=\"padding-left: 1em; padding-right: 1em; text-align: center; vertical-align: top\">radio</td>\n",
        "        <td style=\"padding-left: 1em; padding-right: 1em; text-align: center; vertical-align: top\">18</td>\n",
        "    </tr>\n",
        "    <tr>\n",
        "        <td style=\"padding-left: 1em; padding-right: 1em; text-align: center; vertical-align: top\">alum</td>\n",
        "        <td style=\"padding-left: 1em; padding-right: 1em; text-align: center; vertical-align: top\">may</td>\n",
        "        <td style=\"padding-left: 1em; padding-right: 1em; text-align: center; vertical-align: top\">6</td>\n",
        "    </tr>\n",
        "    <tr>\n",
        "        <td style=\"padding-left: 1em; padding-right: 1em; text-align: center; vertical-align: top\">lot</td>\n",
        "        <td style=\"padding-left: 1em; padding-right: 1em; text-align: center; vertical-align: top\">compani</td>\n",
        "        <td style=\"padding-left: 1em; padding-right: 1em; text-align: center; vertical-align: top\">8</td>\n",
        "    </tr>\n",
        "    <tr>\n",
        "        <td style=\"padding-left: 1em; padding-right: 1em; text-align: center; vertical-align: top\">updat</td>\n",
        "        <td style=\"padding-left: 1em; padding-right: 1em; text-align: center; vertical-align: top\">tamerlan</td>\n",
        "        <td style=\"padding-left: 1em; padding-right: 1em; text-align: center; vertical-align: top\">558</td>\n",
        "    </tr>\n",
        "    <tr>\n",
        "        <td style=\"padding-left: 1em; padding-right: 1em; text-align: center; vertical-align: top\">instruct</td>\n",
        "        <td style=\"padding-left: 1em; padding-right: 1em; text-align: center; vertical-align: top\">practic</td>\n",
        "        <td style=\"padding-left: 1em; padding-right: 1em; text-align: center; vertical-align: top\">6</td>\n",
        "    </tr>\n",
        "    <tr>\n",
        "        <td style=\"padding-left: 1em; padding-right: 1em; text-align: center; vertical-align: top\">rt</td>\n",
        "        <td style=\"padding-left: 1em; padding-right: 1em; text-align: center; vertical-align: top\">buveri</td>\n",
        "        <td style=\"padding-left: 1em; padding-right: 1em; text-align: center; vertical-align: top\">12</td>\n",
        "    </tr>\n",
        "    <tr>\n",
        "        <td style=\"padding-left: 1em; padding-right: 1em; text-align: center; vertical-align: top\">bulu</td>\n",
        "        <td style=\"padding-left: 1em; padding-right: 1em; text-align: center; vertical-align: top\">orang</td>\n",
        "        <td style=\"padding-left: 1em; padding-right: 1em; text-align: center; vertical-align: top\">10</td>\n",
        "    </tr>\n",
        "    <tr>\n",
        "        <td style=\"padding-left: 1em; padding-right: 1em; text-align: center; vertical-align: top\">launch</td>\n",
        "        <td style=\"padding-left: 1em; padding-right: 1em; text-align: center; vertical-align: top\">watertown</td>\n",
        "        <td style=\"padding-left: 1em; padding-right: 1em; text-align: center; vertical-align: top\">150</td>\n",
        "    </tr>\n",
        "</table>\n",
        "[10 rows x 3 columns]<br/>\n",
        "</div>"
       ],
       "metadata": {},
       "output_type": "pyout",
       "prompt_number": 1,
       "text": [
        "Columns:\n",
        "\tWord 1\tstr\n",
        "\tWord 2\tstr\n",
        "\tCo-occurrence\tstr\n",
        "\n",
        "Rows: 10\n",
        "\n",
        "Data:\n",
        "+----------+-------------+---------------+\n",
        "|  Word 1  |    Word 2   | Co-occurrence |\n",
        "+----------+-------------+---------------+\n",
        "|  happi   | anniversari |       18      |\n",
        "|   wit    |    polic    |      547      |\n",
        "|  sunil   |    radio    |       18      |\n",
        "|   alum   |     may     |       6       |\n",
        "|   lot    |   compani   |       8       |\n",
        "|  updat   |   tamerlan  |      558      |\n",
        "| instruct |   practic   |       6       |\n",
        "|    rt    |    buveri   |       12      |\n",
        "|   bulu   |    orang    |       10      |\n",
        "|  launch  |  watertown  |      150      |\n",
        "+----------+-------------+---------------+\n",
        "[10 rows x 3 columns]"
       ]
      }
     ],
     "prompt_number": 1
    },
    {
     "cell_type": "heading",
     "level": 1,
     "metadata": {},
     "source": [
      "Filtering the Baseline Data"
     ]
    },
    {
     "cell_type": "code",
     "collapsed": false,
     "input": [
      "#To get the subgraph of the baseline data \n",
      "#which corresponds to our rumor data, we will filter the baseline edge-list\n",
      "#by both of the 'Word' columns of our rumor data.\n",
      "\n",
      "rumor_words = rumor_edges.select_column(\"Word 1\") #Get the first word column.\n",
      "rumor_words = rumor_words.append(rumor_edges.select_column(\"Word 2\")) #Glue the second word column to the end of the first.\n",
      "rumor_words = rumor_words.unique() #Remove the duplicates.\n",
      "\n",
      "filtered_baseline = baseline_edges.filter_by(rumor_words, \"Word 1\").filter_by(rumor_words, \"Word 2\")\n",
      "filtered_baseline.rename({'Co-occurrence':'Baseline'})\n",
      "\n",
      "#Remove search terms and rt terms.\n",
      "rumor_edges = rumor_edges.filter_by(['boston', 'marathon', 'bomb', 'suspect', 'r', 'rt'],\"Word 1\", exclude=True)\n",
      "rumor_edges = rumor_edges.filter_by(['boston', 'marathon', 'bomb', 'suspect', 'r', 'rt'],\"Word 2\", exclude=True)\n",
      "\n",
      "\n",
      "#Lets look at the result:\n",
      "filtered_baseline.head()\n",
      "\n",
      "#Now let's join the counts into one SFrame (We will join a row if the pair of words matches.)\n",
      "combined_order = filtered_baseline.join(rumor_edges, on={'Word 1':'Word 1', 'Word 2':'Word 2'}) #All in ordr matches match.\n",
      "combined_reverse = filtered_baseline.join(rumor_edges, on={'Word 1':'Word 2', 'Word 2':'Word 1'}) #All reverse matches.\n",
      "\n",
      "\n",
      "combined = combined_order.append(combined_reverse)\n",
      "\n",
      "combined.head()"
     ],
     "language": "python",
     "metadata": {},
     "outputs": [
      {
       "html": [
        "<div style=\"max-height:1000px;max-width:1500px;overflow:auto;\"><table frame=\"box\" rules=\"cols\">\n",
        "    <tr>\n",
        "        <th style=\"padding-left: 1em; padding-right: 1em; text-align: center\">Word 1</th>\n",
        "        <th style=\"padding-left: 1em; padding-right: 1em; text-align: center\">Word 2</th>\n",
        "        <th style=\"padding-left: 1em; padding-right: 1em; text-align: center\">Baseline</th>\n",
        "        <th style=\"padding-left: 1em; padding-right: 1em; text-align: center\">Co-occurrence</th>\n",
        "    </tr>\n",
        "    <tr>\n",
        "        <td style=\"padding-left: 1em; padding-right: 1em; text-align: center; vertical-align: top\">happi</td>\n",
        "        <td style=\"padding-left: 1em; padding-right: 1em; text-align: center; vertical-align: top\">anniversari</td>\n",
        "        <td style=\"padding-left: 1em; padding-right: 1em; text-align: center; vertical-align: top\">479</td>\n",
        "        <td style=\"padding-left: 1em; padding-right: 1em; text-align: center; vertical-align: top\">18</td>\n",
        "    </tr>\n",
        "    <tr>\n",
        "        <td style=\"padding-left: 1em; padding-right: 1em; text-align: center; vertical-align: top\">hurt</td>\n",
        "        <td style=\"padding-left: 1em; padding-right: 1em; text-align: center; vertical-align: top\">girlfriend</td>\n",
        "        <td style=\"padding-left: 1em; padding-right: 1em; text-align: center; vertical-align: top\">7</td>\n",
        "        <td style=\"padding-left: 1em; padding-right: 1em; text-align: center; vertical-align: top\">9</td>\n",
        "    </tr>\n",
        "    <tr>\n",
        "        <td style=\"padding-left: 1em; padding-right: 1em; text-align: center; vertical-align: top\">event</td>\n",
        "        <td style=\"padding-left: 1em; padding-right: 1em; text-align: center; vertical-align: top\">weight</td>\n",
        "        <td style=\"padding-left: 1em; padding-right: 1em; text-align: center; vertical-align: top\">6</td>\n",
        "        <td style=\"padding-left: 1em; padding-right: 1em; text-align: center; vertical-align: top\">8</td>\n",
        "    </tr>\n",
        "    <tr>\n",
        "        <td style=\"padding-left: 1em; padding-right: 1em; text-align: center; vertical-align: top\">lot</td>\n",
        "        <td style=\"padding-left: 1em; padding-right: 1em; text-align: center; vertical-align: top\">compani</td>\n",
        "        <td style=\"padding-left: 1em; padding-right: 1em; text-align: center; vertical-align: top\">133</td>\n",
        "        <td style=\"padding-left: 1em; padding-right: 1em; text-align: center; vertical-align: top\">8</td>\n",
        "    </tr>\n",
        "    <tr>\n",
        "        <td style=\"padding-left: 1em; padding-right: 1em; text-align: center; vertical-align: top\">breath</td>\n",
        "        <td style=\"padding-left: 1em; padding-right: 1em; text-align: center; vertical-align: top\">time</td>\n",
        "        <td style=\"padding-left: 1em; padding-right: 1em; text-align: center; vertical-align: top\">184</td>\n",
        "        <td style=\"padding-left: 1em; padding-right: 1em; text-align: center; vertical-align: top\">50</td>\n",
        "    </tr>\n",
        "    <tr>\n",
        "        <td style=\"padding-left: 1em; padding-right: 1em; text-align: center; vertical-align: top\">major</td>\n",
        "        <td style=\"padding-left: 1em; padding-right: 1em; text-align: center; vertical-align: top\">larg</td>\n",
        "        <td style=\"padding-left: 1em; padding-right: 1em; text-align: center; vertical-align: top\">18</td>\n",
        "        <td style=\"padding-left: 1em; padding-right: 1em; text-align: center; vertical-align: top\">30</td>\n",
        "    </tr>\n",
        "    <tr>\n",
        "        <td style=\"padding-left: 1em; padding-right: 1em; text-align: center; vertical-align: top\">polic</td>\n",
        "        <td style=\"padding-left: 1em; padding-right: 1em; text-align: center; vertical-align: top\">scam</td>\n",
        "        <td style=\"padding-left: 1em; padding-right: 1em; text-align: center; vertical-align: top\">22</td>\n",
        "        <td style=\"padding-left: 1em; padding-right: 1em; text-align: center; vertical-align: top\">31</td>\n",
        "    </tr>\n",
        "    <tr>\n",
        "        <td style=\"padding-left: 1em; padding-right: 1em; text-align: center; vertical-align: top\">today</td>\n",
        "        <td style=\"padding-left: 1em; padding-right: 1em; text-align: center; vertical-align: top\">aw</td>\n",
        "        <td style=\"padding-left: 1em; padding-right: 1em; text-align: center; vertical-align: top\">91</td>\n",
        "        <td style=\"padding-left: 1em; padding-right: 1em; text-align: center; vertical-align: top\">351</td>\n",
        "    </tr>\n",
        "    <tr>\n",
        "        <td style=\"padding-left: 1em; padding-right: 1em; text-align: center; vertical-align: top\">today</td>\n",
        "        <td style=\"padding-left: 1em; padding-right: 1em; text-align: center; vertical-align: top\">ac</td>\n",
        "        <td style=\"padding-left: 1em; padding-right: 1em; text-align: center; vertical-align: top\">83</td>\n",
        "        <td style=\"padding-left: 1em; padding-right: 1em; text-align: center; vertical-align: top\">10</td>\n",
        "    </tr>\n",
        "    <tr>\n",
        "        <td style=\"padding-left: 1em; padding-right: 1em; text-align: center; vertical-align: top\">today</td>\n",
        "        <td style=\"padding-left: 1em; padding-right: 1em; text-align: center; vertical-align: top\">ag</td>\n",
        "        <td style=\"padding-left: 1em; padding-right: 1em; text-align: center; vertical-align: top\">23</td>\n",
        "        <td style=\"padding-left: 1em; padding-right: 1em; text-align: center; vertical-align: top\">8</td>\n",
        "    </tr>\n",
        "</table>\n",
        "[10 rows x 4 columns]<br/>\n",
        "</div>"
       ],
       "metadata": {},
       "output_type": "pyout",
       "prompt_number": 2,
       "text": [
        "Columns:\n",
        "\tWord 1\tstr\n",
        "\tWord 2\tstr\n",
        "\tBaseline\tstr\n",
        "\tCo-occurrence\tstr\n",
        "\n",
        "Rows: 10\n",
        "\n",
        "Data:\n",
        "+--------+-------------+----------+---------------+\n",
        "| Word 1 |    Word 2   | Baseline | Co-occurrence |\n",
        "+--------+-------------+----------+---------------+\n",
        "| happi  | anniversari |   479    |       18      |\n",
        "|  hurt  |  girlfriend |    7     |       9       |\n",
        "| event  |    weight   |    6     |       8       |\n",
        "|  lot   |   compani   |   133    |       8       |\n",
        "| breath |     time    |   184    |       50      |\n",
        "| major  |     larg    |    18    |       30      |\n",
        "| polic  |     scam    |    22    |       31      |\n",
        "| today  |      aw     |    91    |      351      |\n",
        "| today  |      ac     |    83    |       10      |\n",
        "| today  |      ag     |    23    |       8       |\n",
        "+--------+-------------+----------+---------------+\n",
        "[10 rows x 4 columns]"
       ]
      }
     ],
     "prompt_number": 2
    },
    {
     "cell_type": "heading",
     "level": 1,
     "metadata": {},
     "source": [
      "Taking the Difference of the Networks"
     ]
    },
    {
     "cell_type": "code",
     "collapsed": false,
     "input": [
      "#We will take the difference between the baseline and the rumor data for each co-occurence pair.\n",
      "edge_difference = combined.apply(lambda x: int(x['Co-occurrence']) - int(x['Baseline']))\n",
      "combined.add_column(edge_difference,'Difference')\n",
      "\n",
      "#Export the top 2000 to explore in Gephi.\n",
      "combined.topk('Difference', 2000).rename({'Word 1':'Source','Word 2':'Target','Difference':'Weight'}).save('boston_interesting.csv',format='csv')"
     ],
     "language": "python",
     "metadata": {},
     "outputs": [
      {
       "ename": "SyntaxError",
       "evalue": "invalid syntax (<ipython-input-3-a9f48f530bd1>, line 6)",
       "output_type": "pyerr",
       "traceback": [
        "\u001b[0;36m  File \u001b[0;32m\"<ipython-input-3-a9f48f530bd1>\"\u001b[0;36m, line \u001b[0;32m6\u001b[0m\n\u001b[0;31m    combined.topk('Difference', 2000)rename({'Word 1':'Source','Word 2':'Target','Difference':'Weight'}).save('boston_interesting.csv',format='csv')\u001b[0m\n\u001b[0m                                          ^\u001b[0m\n\u001b[0;31mSyntaxError\u001b[0m\u001b[0;31m:\u001b[0m invalid syntax\n"
       ]
      }
     ],
     "prompt_number": 3
    },
    {
     "cell_type": "code",
     "collapsed": false,
     "input": [
      "#Now we'll find some interesting rows to look at by looking for big differences.\n",
      "#Using topk() to get the highest difference values. \n",
      "#***It might be interesting to look at high magnitude negative values as well in the future.\n",
      "interesting = combined.topk('Difference', 100)\n",
      "\n",
      "\n",
      "#Get the word-names for our interesting rows.\n",
      "temp = interesting.select_column('Word 1').append(interesting.select_column('Word 2')).unique()\n",
      "verts = rumor_verts.filter_by(temp,'word')\n",
      "verts.rename({'word':'__id'})\n",
      "\n",
      "\n",
      "#Create an SGraph so we can visualize the data:\n",
      "differenceGraph = gl.SGraph(vertices=verts, edges=interesting, vid_field='__id',src_field='Word 1', dst_field='Word 2')\n",
      "\n",
      "#Now lets take a look:\n",
      "differenceGraph.show(vlabel='__id', elabel='Co-occurrence', elabel_hover=True)"
     ],
     "language": "python",
     "metadata": {},
     "outputs": []
    },
    {
     "cell_type": "code",
     "collapsed": false,
     "input": [
      "#Placeholder"
     ],
     "language": "python",
     "metadata": {},
     "outputs": []
    },
    {
     "cell_type": "code",
     "collapsed": false,
     "input": [],
     "language": "python",
     "metadata": {},
     "outputs": []
    }
   ],
   "metadata": {}
  }
 ]
}