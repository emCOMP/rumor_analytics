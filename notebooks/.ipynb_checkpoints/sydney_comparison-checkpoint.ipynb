{
 "metadata": {
  "name": "",
  "signature": "sha256:08efb79585db2ef42003439e0ef4566d6d5f0c9219bf9b620fcf244181c8a0a4"
 },
 "nbformat": 3,
 "nbformat_minor": 0,
 "worksheets": [
  {
   "cells": [
    {
     "cell_type": "heading",
     "level": 1,
     "metadata": {},
     "source": [
      "Importing and Formating Our Data"
     ]
    },
    {
     "cell_type": "code",
     "collapsed": false,
     "input": [
      "import graphlab as gl\n",
      "\n",
      "baseline_path = \"/Users/Logan/Code/rumor_analytics/csv/baseline_jan6_e_wNames.csv\"\n",
      "rumor_path = \"/Users/Logan/Code/rumor_analytics/csv/rumor_sets/sydney_comparison_e_wNames.csv\"\n",
      "rumor_vert_path = \"/Users/Logan/Code/rumor_analytics/csv/rumor_sets/sydney_comparison_v.csv\"\n",
      "\n",
      "baseline_edges = gl.SFrame.read_csv(baseline_path, True)\n",
      "rumor_edges = gl.SFrame.read_csv(rumor_path, True)\n",
      "rumor_verts = gl.SFrame.read_csv(rumor_vert_path, True)\n",
      "#Let's see what we have imported.\n",
      "baseline_edges.head()\n",
      "rumor_edges.head()"
     ],
     "language": "python",
     "metadata": {},
     "outputs": [
      {
       "output_type": "stream",
       "stream": "stderr",
       "text": [
        "[WARNING] Numpy version 1.6.2 is not supported. Minimum required version: 1.8.0. Numpy support will be disabled.\n"
       ]
      },
      {
       "output_type": "stream",
       "stream": "stderr",
       "text": [
        "[INFO] Start server at: ipc:///tmp/graphlab_server-52281 - Server binary: /Library/Python/2.7/site-packages/graphlab/unity_server - Server log: /tmp/graphlab_server_1421273411.log\n"
       ]
      },
      {
       "output_type": "stream",
       "stream": "stderr",
       "text": [
        "[INFO] GraphLab Server Version: 1.2.1\n"
       ]
      },
      {
       "html": [
        "<pre>PROGRESS: Finished parsing file /Users/Logan/Code/rumor_analytics/csv/baseline_jan6_e_wNames.csv</pre>"
       ],
       "metadata": {},
       "output_type": "display_data",
       "text": [
        "PROGRESS: Finished parsing file /Users/Logan/Code/rumor_analytics/csv/baseline_jan6_e_wNames.csv"
       ]
      },
      {
       "html": [
        "<pre>PROGRESS: Parsing completed. Parsed 100 lines in 0.952254 secs.</pre>"
       ],
       "metadata": {},
       "output_type": "display_data",
       "text": [
        "PROGRESS: Parsing completed. Parsed 100 lines in 0.952254 secs."
       ]
      },
      {
       "output_type": "stream",
       "stream": "stdout",
       "text": [
        "cannot import name hashtable\n",
        "Could not detect types. Using str for each column."
       ]
      },
      {
       "html": [
        "<pre>PROGRESS: Finished parsing file /Users/Logan/Code/rumor_analytics/csv/baseline_jan6_e_wNames.csv</pre>"
       ],
       "metadata": {},
       "output_type": "display_data",
       "text": [
        "PROGRESS: Finished parsing file /Users/Logan/Code/rumor_analytics/csv/baseline_jan6_e_wNames.csv"
       ]
      },
      {
       "html": [
        "<pre>PROGRESS: Parsing completed. Parsed 3047383 lines in 2.72596 secs.</pre>"
       ],
       "metadata": {},
       "output_type": "display_data",
       "text": [
        "PROGRESS: Parsing completed. Parsed 3047383 lines in 2.72596 secs."
       ]
      },
      {
       "html": [
        "<pre>PROGRESS: Finished parsing file /Users/Logan/Code/rumor_analytics/csv/rumor_sets/sydney_comparison_e_wNames.csv</pre>"
       ],
       "metadata": {},
       "output_type": "display_data",
       "text": [
        "PROGRESS: Finished parsing file /Users/Logan/Code/rumor_analytics/csv/rumor_sets/sydney_comparison_e_wNames.csv"
       ]
      },
      {
       "html": [
        "<pre>PROGRESS: Parsing completed. Parsed 100 lines in 0.870371 secs.</pre>"
       ],
       "metadata": {},
       "output_type": "display_data",
       "text": [
        "PROGRESS: Parsing completed. Parsed 100 lines in 0.870371 secs."
       ]
      },
      {
       "output_type": "stream",
       "stream": "stdout",
       "text": [
        "\n",
        "Could not detect types. Using str for each column."
       ]
      },
      {
       "html": [
        "<pre>PROGRESS: Finished parsing file /Users/Logan/Code/rumor_analytics/csv/rumor_sets/sydney_comparison_e_wNames.csv</pre>"
       ],
       "metadata": {},
       "output_type": "display_data",
       "text": [
        "PROGRESS: Finished parsing file /Users/Logan/Code/rumor_analytics/csv/rumor_sets/sydney_comparison_e_wNames.csv"
       ]
      },
      {
       "html": [
        "<pre>PROGRESS: Parsing completed. Parsed 2581413 lines in 2.44182 secs.</pre>"
       ],
       "metadata": {},
       "output_type": "display_data",
       "text": [
        "PROGRESS: Parsing completed. Parsed 2581413 lines in 2.44182 secs."
       ]
      },
      {
       "html": [
        "<pre>PROGRESS: Finished parsing file /Users/Logan/Code/rumor_analytics/csv/rumor_sets/sydney_comparison_v.csv</pre>"
       ],
       "metadata": {},
       "output_type": "display_data",
       "text": [
        "PROGRESS: Finished parsing file /Users/Logan/Code/rumor_analytics/csv/rumor_sets/sydney_comparison_v.csv"
       ]
      },
      {
       "html": [
        "<pre>PROGRESS: Parsing completed. Parsed 100 lines in 0.03682 secs.</pre>"
       ],
       "metadata": {},
       "output_type": "display_data",
       "text": [
        "PROGRESS: Parsing completed. Parsed 100 lines in 0.03682 secs."
       ]
      },
      {
       "output_type": "stream",
       "stream": "stdout",
       "text": [
        "\n",
        "Could not detect types. Using str for each column."
       ]
      },
      {
       "html": [
        "<pre>PROGRESS: Finished parsing file /Users/Logan/Code/rumor_analytics/csv/rumor_sets/sydney_comparison_v.csv</pre>"
       ],
       "metadata": {},
       "output_type": "display_data",
       "text": [
        "PROGRESS: Finished parsing file /Users/Logan/Code/rumor_analytics/csv/rumor_sets/sydney_comparison_v.csv"
       ]
      },
      {
       "html": [
        "<pre>PROGRESS: Parsing completed. Parsed 94632 lines in 0.100027 secs.</pre>"
       ],
       "metadata": {},
       "output_type": "display_data",
       "text": [
        "PROGRESS: Parsing completed. Parsed 94632 lines in 0.100027 secs."
       ]
      },
      {
       "output_type": "stream",
       "stream": "stdout",
       "text": [
        "\n"
       ]
      },
      {
       "html": [
        "<div style=\"max-height:1000px;max-width:1500px;overflow:auto;\"><table frame=\"box\" rules=\"cols\">\n",
        "    <tr>\n",
        "        <th style=\"padding-left: 1em; padding-right: 1em; text-align: center\">Word 1</th>\n",
        "        <th style=\"padding-left: 1em; padding-right: 1em; text-align: center\">Word 2</th>\n",
        "        <th style=\"padding-left: 1em; padding-right: 1em; text-align: center\">Co-occurrence</th>\n",
        "    </tr>\n",
        "    <tr>\n",
        "        <td style=\"padding-left: 1em; padding-right: 1em; text-align: center; vertical-align: top\">score</td>\n",
        "        <td style=\"padding-left: 1em; padding-right: 1em; text-align: center; vertical-align: top\">strengthen</td>\n",
        "        <td style=\"padding-left: 1em; padding-right: 1em; text-align: center; vertical-align: top\">37</td>\n",
        "    </tr>\n",
        "    <tr>\n",
        "        <td style=\"padding-left: 1em; padding-right: 1em; text-align: center; vertical-align: top\">happi</td>\n",
        "        <td style=\"padding-left: 1em; padding-right: 1em; text-align: center; vertical-align: top\">anniversari</td>\n",
        "        <td style=\"padding-left: 1em; padding-right: 1em; text-align: center; vertical-align: top\">33</td>\n",
        "    </tr>\n",
        "    <tr>\n",
        "        <td style=\"padding-left: 1em; padding-right: 1em; text-align: center; vertical-align: top\">wit</td>\n",
        "        <td style=\"padding-left: 1em; padding-right: 1em; text-align: center; vertical-align: top\">polic</td>\n",
        "        <td style=\"padding-left: 1em; padding-right: 1em; text-align: center; vertical-align: top\">5142</td>\n",
        "    </tr>\n",
        "    <tr>\n",
        "        <td style=\"padding-left: 1em; padding-right: 1em; text-align: center; vertical-align: top\">myjihad</td>\n",
        "        <td style=\"padding-left: 1em; padding-right: 1em; text-align: center; vertical-align: top\">bjp</td>\n",
        "        <td style=\"padding-left: 1em; padding-right: 1em; text-align: center; vertical-align: top\">106</td>\n",
        "    </tr>\n",
        "    <tr>\n",
        "        <td style=\"padding-left: 1em; padding-right: 1em; text-align: center; vertical-align: top\">golf</td>\n",
        "        <td style=\"padding-left: 1em; padding-right: 1em; text-align: center; vertical-align: top\">insid</td>\n",
        "        <td style=\"padding-left: 1em; padding-right: 1em; text-align: center; vertical-align: top\">10</td>\n",
        "    </tr>\n",
        "    <tr>\n",
        "        <td style=\"padding-left: 1em; padding-right: 1em; text-align: center; vertical-align: top\">lot</td>\n",
        "        <td style=\"padding-left: 1em; padding-right: 1em; text-align: center; vertical-align: top\">compani</td>\n",
        "        <td style=\"padding-left: 1em; padding-right: 1em; text-align: center; vertical-align: top\">7</td>\n",
        "    </tr>\n",
        "    <tr>\n",
        "        <td style=\"padding-left: 1em; padding-right: 1em; text-align: center; vertical-align: top\">senategop</td>\n",
        "        <td style=\"padding-left: 1em; padding-right: 1em; text-align: center; vertical-align: top\">uemadrid</td>\n",
        "        <td style=\"padding-left: 1em; padding-right: 1em; text-align: center; vertical-align: top\">8</td>\n",
        "    </tr>\n",
        "    <tr>\n",
        "        <td style=\"padding-left: 1em; padding-right: 1em; text-align: center; vertical-align: top\">cultur</td>\n",
        "        <td style=\"padding-left: 1em; padding-right: 1em; text-align: center; vertical-align: top\">pakwithindianotolakhvibai<br>l</td>\n",
        "        <td style=\"padding-left: 1em; padding-right: 1em; text-align: center; vertical-align: top\">6</td>\n",
        "    </tr>\n",
        "    <tr>\n",
        "        <td style=\"padding-left: 1em; padding-right: 1em; text-align: center; vertical-align: top\">palestinepuls</td>\n",
        "        <td style=\"padding-left: 1em; padding-right: 1em; text-align: center; vertical-align: top\">state</td>\n",
        "        <td style=\"padding-left: 1em; padding-right: 1em; text-align: center; vertical-align: top\">6</td>\n",
        "    </tr>\n",
        "    <tr>\n",
        "        <td style=\"padding-left: 1em; padding-right: 1em; text-align: center; vertical-align: top\">word</td>\n",
        "        <td style=\"padding-left: 1em; padding-right: 1em; text-align: center; vertical-align: top\">peshawar</td>\n",
        "        <td style=\"padding-left: 1em; padding-right: 1em; text-align: center; vertical-align: top\">414</td>\n",
        "    </tr>\n",
        "</table>\n",
        "[10 rows x 3 columns]<br/>\n",
        "</div>"
       ],
       "metadata": {},
       "output_type": "pyout",
       "prompt_number": 1,
       "text": [
        "Columns:\n",
        "\tWord 1\tstr\n",
        "\tWord 2\tstr\n",
        "\tCo-occurrence\tstr\n",
        "\n",
        "Rows: 10\n",
        "\n",
        "Data:\n",
        "+---------------+----------------------------+---------------+\n",
        "|     Word 1    |           Word 2           | Co-occurrence |\n",
        "+---------------+----------------------------+---------------+\n",
        "|     score     |         strengthen         |       37      |\n",
        "|     happi     |        anniversari         |       33      |\n",
        "|      wit      |           polic            |      5142     |\n",
        "|    myjihad    |            bjp             |      106      |\n",
        "|      golf     |           insid            |       10      |\n",
        "|      lot      |          compani           |       7       |\n",
        "|   senategop   |          uemadrid          |       8       |\n",
        "|     cultur    | pakwithindianotolakhvibail |       6       |\n",
        "| palestinepuls |           state            |       6       |\n",
        "|      word     |          peshawar          |      414      |\n",
        "+---------------+----------------------------+---------------+\n",
        "[10 rows x 3 columns]"
       ]
      }
     ],
     "prompt_number": 1
    },
    {
     "cell_type": "heading",
     "level": 1,
     "metadata": {},
     "source": [
      "Filtering the Baseline Data"
     ]
    },
    {
     "cell_type": "code",
     "collapsed": false,
     "input": [
      "#To get the subgraph of the baseline data \n",
      "#which corresponds to our rumor data, we will filter the baseline edge-list\n",
      "#by both of the 'Word' columns of our rumor data.\n",
      "\n",
      "rumor_words = rumor_edges.select_column(\"Word 1\") #Get the first word column.\n",
      "rumor_words = rumor_words.append(rumor_edges.select_column(\"Word 2\")) #Glue the second word column to the end of the first.\n",
      "rumor_words = rumor_words.unique() #Remove the duplicates.\n",
      "\n",
      "filtered_baseline = baseline_edges.filter_by(rumor_words, \"Word 1\").filter_by(rumor_words, \"Word 2\")\n",
      "filtered_baseline.rename({'Co-occurrence':'Baseline'})\n",
      "\n",
      "#Remove search terms and rt terms.\n",
      "rumor_edges = rumor_edges.filter_by(['sydneysiege', 'martinplacesiege', 'sydney', 'chocolate', 'cafe', 'siege', 'hostag', 'terrorise', 'terrorize', 'terrorist', 'r', 'rt'],\"Word 1\", exclude=True)\n",
      "rumor_edges = rumor_edges.filter_by(['sydneysiege', 'martinplacesiege', 'sydney', 'chocolate', 'cafe', 'siege', 'hostag', 'terrorise', 'terrorize', 'terrorist', 'r', 'rt'],\"Word 2\", exclude=True)\n",
      "\n",
      "\n",
      "#Lets look at the result:\n",
      "filtered_baseline.head()\n",
      "\n",
      "#Now let's join the counts into one SFrame (We will join a row if the pair of words matches.)\n",
      "combined_order = filtered_baseline.join(rumor_edges, on={'Word 1':'Word 1', 'Word 2':'Word 2'}) #All in ordr matches match.\n",
      "combined_reverse = filtered_baseline.join(rumor_edges, on={'Word 1':'Word 2', 'Word 2':'Word 1'}) #All reverse matches.\n",
      "\n",
      "\n",
      "combined = combined_order.append(combined_reverse)\n",
      "\n",
      "combined.head()"
     ],
     "language": "python",
     "metadata": {},
     "outputs": [
      {
       "html": [
        "<div style=\"max-height:1000px;max-width:1500px;overflow:auto;\"><table frame=\"box\" rules=\"cols\">\n",
        "    <tr>\n",
        "        <th style=\"padding-left: 1em; padding-right: 1em; text-align: center\">Word 1</th>\n",
        "        <th style=\"padding-left: 1em; padding-right: 1em; text-align: center\">Word 2</th>\n",
        "        <th style=\"padding-left: 1em; padding-right: 1em; text-align: center\">Baseline</th>\n",
        "        <th style=\"padding-left: 1em; padding-right: 1em; text-align: center\">Co-occurrence</th>\n",
        "    </tr>\n",
        "    <tr>\n",
        "        <td style=\"padding-left: 1em; padding-right: 1em; text-align: center; vertical-align: top\">happi</td>\n",
        "        <td style=\"padding-left: 1em; padding-right: 1em; text-align: center; vertical-align: top\">anniversari</td>\n",
        "        <td style=\"padding-left: 1em; padding-right: 1em; text-align: center; vertical-align: top\">479</td>\n",
        "        <td style=\"padding-left: 1em; padding-right: 1em; text-align: center; vertical-align: top\">33</td>\n",
        "    </tr>\n",
        "    <tr>\n",
        "        <td style=\"padding-left: 1em; padding-right: 1em; text-align: center; vertical-align: top\">golf</td>\n",
        "        <td style=\"padding-left: 1em; padding-right: 1em; text-align: center; vertical-align: top\">insid</td>\n",
        "        <td style=\"padding-left: 1em; padding-right: 1em; text-align: center; vertical-align: top\">16</td>\n",
        "        <td style=\"padding-left: 1em; padding-right: 1em; text-align: center; vertical-align: top\">10</td>\n",
        "    </tr>\n",
        "    <tr>\n",
        "        <td style=\"padding-left: 1em; padding-right: 1em; text-align: center; vertical-align: top\">nation</td>\n",
        "        <td style=\"padding-left: 1em; padding-right: 1em; text-align: center; vertical-align: top\">love</td>\n",
        "        <td style=\"padding-left: 1em; padding-right: 1em; text-align: center; vertical-align: top\">164</td>\n",
        "        <td style=\"padding-left: 1em; padding-right: 1em; text-align: center; vertical-align: top\">598</td>\n",
        "    </tr>\n",
        "    <tr>\n",
        "        <td style=\"padding-left: 1em; padding-right: 1em; text-align: center; vertical-align: top\">lot</td>\n",
        "        <td style=\"padding-left: 1em; padding-right: 1em; text-align: center; vertical-align: top\">compani</td>\n",
        "        <td style=\"padding-left: 1em; padding-right: 1em; text-align: center; vertical-align: top\">133</td>\n",
        "        <td style=\"padding-left: 1em; padding-right: 1em; text-align: center; vertical-align: top\">7</td>\n",
        "    </tr>\n",
        "    <tr>\n",
        "        <td style=\"padding-left: 1em; padding-right: 1em; text-align: center; vertical-align: top\">three</td>\n",
        "        <td style=\"padding-left: 1em; padding-right: 1em; text-align: center; vertical-align: top\">red</td>\n",
        "        <td style=\"padding-left: 1em; padding-right: 1em; text-align: center; vertical-align: top\">53</td>\n",
        "        <td style=\"padding-left: 1em; padding-right: 1em; text-align: center; vertical-align: top\">21</td>\n",
        "    </tr>\n",
        "    <tr>\n",
        "        <td style=\"padding-left: 1em; padding-right: 1em; text-align: center; vertical-align: top\">major</td>\n",
        "        <td style=\"padding-left: 1em; padding-right: 1em; text-align: center; vertical-align: top\">larg</td>\n",
        "        <td style=\"padding-left: 1em; padding-right: 1em; text-align: center; vertical-align: top\">18</td>\n",
        "        <td style=\"padding-left: 1em; padding-right: 1em; text-align: center; vertical-align: top\">24</td>\n",
        "    </tr>\n",
        "    <tr>\n",
        "        <td style=\"padding-left: 1em; padding-right: 1em; text-align: center; vertical-align: top\">im</td>\n",
        "        <td style=\"padding-left: 1em; padding-right: 1em; text-align: center; vertical-align: top\">arriv</td>\n",
        "        <td style=\"padding-left: 1em; padding-right: 1em; text-align: center; vertical-align: top\">12</td>\n",
        "        <td style=\"padding-left: 1em; padding-right: 1em; text-align: center; vertical-align: top\">18</td>\n",
        "    </tr>\n",
        "    <tr>\n",
        "        <td style=\"padding-left: 1em; padding-right: 1em; text-align: center; vertical-align: top\">nba</td>\n",
        "        <td style=\"padding-left: 1em; padding-right: 1em; text-align: center; vertical-align: top\">offer</td>\n",
        "        <td style=\"padding-left: 1em; padding-right: 1em; text-align: center; vertical-align: top\">22</td>\n",
        "        <td style=\"padding-left: 1em; padding-right: 1em; text-align: center; vertical-align: top\">26</td>\n",
        "    </tr>\n",
        "    <tr>\n",
        "        <td style=\"padding-left: 1em; padding-right: 1em; text-align: center; vertical-align: top\">group</td>\n",
        "        <td style=\"padding-left: 1em; padding-right: 1em; text-align: center; vertical-align: top\">near</td>\n",
        "        <td style=\"padding-left: 1em; padding-right: 1em; text-align: center; vertical-align: top\">23</td>\n",
        "        <td style=\"padding-left: 1em; padding-right: 1em; text-align: center; vertical-align: top\">65</td>\n",
        "    </tr>\n",
        "    <tr>\n",
        "        <td style=\"padding-left: 1em; padding-right: 1em; text-align: center; vertical-align: top\">today</td>\n",
        "        <td style=\"padding-left: 1em; padding-right: 1em; text-align: center; vertical-align: top\">au</td>\n",
        "        <td style=\"padding-left: 1em; padding-right: 1em; text-align: center; vertical-align: top\">15</td>\n",
        "        <td style=\"padding-left: 1em; padding-right: 1em; text-align: center; vertical-align: top\">34</td>\n",
        "    </tr>\n",
        "</table>\n",
        "[10 rows x 4 columns]<br/>\n",
        "</div>"
       ],
       "metadata": {},
       "output_type": "pyout",
       "prompt_number": 2,
       "text": [
        "Columns:\n",
        "\tWord 1\tstr\n",
        "\tWord 2\tstr\n",
        "\tBaseline\tstr\n",
        "\tCo-occurrence\tstr\n",
        "\n",
        "Rows: 10\n",
        "\n",
        "Data:\n",
        "+--------+-------------+----------+---------------+\n",
        "| Word 1 |    Word 2   | Baseline | Co-occurrence |\n",
        "+--------+-------------+----------+---------------+\n",
        "| happi  | anniversari |   479    |       33      |\n",
        "|  golf  |    insid    |    16    |       10      |\n",
        "| nation |     love    |   164    |      598      |\n",
        "|  lot   |   compani   |   133    |       7       |\n",
        "| three  |     red     |    53    |       21      |\n",
        "| major  |     larg    |    18    |       24      |\n",
        "|   im   |    arriv    |    12    |       18      |\n",
        "|  nba   |    offer    |    22    |       26      |\n",
        "| group  |     near    |    23    |       65      |\n",
        "| today  |      au     |    15    |       34      |\n",
        "+--------+-------------+----------+---------------+\n",
        "[10 rows x 4 columns]"
       ]
      }
     ],
     "prompt_number": 2
    },
    {
     "cell_type": "heading",
     "level": 1,
     "metadata": {},
     "source": [
      "Taking the Difference of the Networks"
     ]
    },
    {
     "cell_type": "code",
     "collapsed": false,
     "input": [
      "#We will take the difference between the baseline and the rumor data for each co-occurence pair.\n",
      "edge_difference = combined.apply(lambda x: int(x['Co-occurrence']) - int(x['Baseline']))\n",
      "combined.add_column(edge_difference,'Difference')\n",
      "\n",
      "combined.head()"
     ],
     "language": "python",
     "metadata": {},
     "outputs": [
      {
       "html": [
        "<div style=\"max-height:1000px;max-width:1500px;overflow:auto;\"><table frame=\"box\" rules=\"cols\">\n",
        "    <tr>\n",
        "        <th style=\"padding-left: 1em; padding-right: 1em; text-align: center\">Word 1</th>\n",
        "        <th style=\"padding-left: 1em; padding-right: 1em; text-align: center\">Word 2</th>\n",
        "        <th style=\"padding-left: 1em; padding-right: 1em; text-align: center\">Baseline</th>\n",
        "        <th style=\"padding-left: 1em; padding-right: 1em; text-align: center\">Co-occurrence</th>\n",
        "        <th style=\"padding-left: 1em; padding-right: 1em; text-align: center\">Difference</th>\n",
        "    </tr>\n",
        "    <tr>\n",
        "        <td style=\"padding-left: 1em; padding-right: 1em; text-align: center; vertical-align: top\">happi</td>\n",
        "        <td style=\"padding-left: 1em; padding-right: 1em; text-align: center; vertical-align: top\">anniversari</td>\n",
        "        <td style=\"padding-left: 1em; padding-right: 1em; text-align: center; vertical-align: top\">479</td>\n",
        "        <td style=\"padding-left: 1em; padding-right: 1em; text-align: center; vertical-align: top\">33</td>\n",
        "        <td style=\"padding-left: 1em; padding-right: 1em; text-align: center; vertical-align: top\">-446</td>\n",
        "    </tr>\n",
        "    <tr>\n",
        "        <td style=\"padding-left: 1em; padding-right: 1em; text-align: center; vertical-align: top\">golf</td>\n",
        "        <td style=\"padding-left: 1em; padding-right: 1em; text-align: center; vertical-align: top\">insid</td>\n",
        "        <td style=\"padding-left: 1em; padding-right: 1em; text-align: center; vertical-align: top\">16</td>\n",
        "        <td style=\"padding-left: 1em; padding-right: 1em; text-align: center; vertical-align: top\">10</td>\n",
        "        <td style=\"padding-left: 1em; padding-right: 1em; text-align: center; vertical-align: top\">-6</td>\n",
        "    </tr>\n",
        "    <tr>\n",
        "        <td style=\"padding-left: 1em; padding-right: 1em; text-align: center; vertical-align: top\">nation</td>\n",
        "        <td style=\"padding-left: 1em; padding-right: 1em; text-align: center; vertical-align: top\">love</td>\n",
        "        <td style=\"padding-left: 1em; padding-right: 1em; text-align: center; vertical-align: top\">164</td>\n",
        "        <td style=\"padding-left: 1em; padding-right: 1em; text-align: center; vertical-align: top\">598</td>\n",
        "        <td style=\"padding-left: 1em; padding-right: 1em; text-align: center; vertical-align: top\">434</td>\n",
        "    </tr>\n",
        "    <tr>\n",
        "        <td style=\"padding-left: 1em; padding-right: 1em; text-align: center; vertical-align: top\">lot</td>\n",
        "        <td style=\"padding-left: 1em; padding-right: 1em; text-align: center; vertical-align: top\">compani</td>\n",
        "        <td style=\"padding-left: 1em; padding-right: 1em; text-align: center; vertical-align: top\">133</td>\n",
        "        <td style=\"padding-left: 1em; padding-right: 1em; text-align: center; vertical-align: top\">7</td>\n",
        "        <td style=\"padding-left: 1em; padding-right: 1em; text-align: center; vertical-align: top\">-126</td>\n",
        "    </tr>\n",
        "    <tr>\n",
        "        <td style=\"padding-left: 1em; padding-right: 1em; text-align: center; vertical-align: top\">three</td>\n",
        "        <td style=\"padding-left: 1em; padding-right: 1em; text-align: center; vertical-align: top\">red</td>\n",
        "        <td style=\"padding-left: 1em; padding-right: 1em; text-align: center; vertical-align: top\">53</td>\n",
        "        <td style=\"padding-left: 1em; padding-right: 1em; text-align: center; vertical-align: top\">21</td>\n",
        "        <td style=\"padding-left: 1em; padding-right: 1em; text-align: center; vertical-align: top\">-32</td>\n",
        "    </tr>\n",
        "    <tr>\n",
        "        <td style=\"padding-left: 1em; padding-right: 1em; text-align: center; vertical-align: top\">major</td>\n",
        "        <td style=\"padding-left: 1em; padding-right: 1em; text-align: center; vertical-align: top\">larg</td>\n",
        "        <td style=\"padding-left: 1em; padding-right: 1em; text-align: center; vertical-align: top\">18</td>\n",
        "        <td style=\"padding-left: 1em; padding-right: 1em; text-align: center; vertical-align: top\">24</td>\n",
        "        <td style=\"padding-left: 1em; padding-right: 1em; text-align: center; vertical-align: top\">6</td>\n",
        "    </tr>\n",
        "    <tr>\n",
        "        <td style=\"padding-left: 1em; padding-right: 1em; text-align: center; vertical-align: top\">im</td>\n",
        "        <td style=\"padding-left: 1em; padding-right: 1em; text-align: center; vertical-align: top\">arriv</td>\n",
        "        <td style=\"padding-left: 1em; padding-right: 1em; text-align: center; vertical-align: top\">12</td>\n",
        "        <td style=\"padding-left: 1em; padding-right: 1em; text-align: center; vertical-align: top\">18</td>\n",
        "        <td style=\"padding-left: 1em; padding-right: 1em; text-align: center; vertical-align: top\">6</td>\n",
        "    </tr>\n",
        "    <tr>\n",
        "        <td style=\"padding-left: 1em; padding-right: 1em; text-align: center; vertical-align: top\">nba</td>\n",
        "        <td style=\"padding-left: 1em; padding-right: 1em; text-align: center; vertical-align: top\">offer</td>\n",
        "        <td style=\"padding-left: 1em; padding-right: 1em; text-align: center; vertical-align: top\">22</td>\n",
        "        <td style=\"padding-left: 1em; padding-right: 1em; text-align: center; vertical-align: top\">26</td>\n",
        "        <td style=\"padding-left: 1em; padding-right: 1em; text-align: center; vertical-align: top\">4</td>\n",
        "    </tr>\n",
        "    <tr>\n",
        "        <td style=\"padding-left: 1em; padding-right: 1em; text-align: center; vertical-align: top\">group</td>\n",
        "        <td style=\"padding-left: 1em; padding-right: 1em; text-align: center; vertical-align: top\">near</td>\n",
        "        <td style=\"padding-left: 1em; padding-right: 1em; text-align: center; vertical-align: top\">23</td>\n",
        "        <td style=\"padding-left: 1em; padding-right: 1em; text-align: center; vertical-align: top\">65</td>\n",
        "        <td style=\"padding-left: 1em; padding-right: 1em; text-align: center; vertical-align: top\">42</td>\n",
        "    </tr>\n",
        "    <tr>\n",
        "        <td style=\"padding-left: 1em; padding-right: 1em; text-align: center; vertical-align: top\">today</td>\n",
        "        <td style=\"padding-left: 1em; padding-right: 1em; text-align: center; vertical-align: top\">au</td>\n",
        "        <td style=\"padding-left: 1em; padding-right: 1em; text-align: center; vertical-align: top\">15</td>\n",
        "        <td style=\"padding-left: 1em; padding-right: 1em; text-align: center; vertical-align: top\">34</td>\n",
        "        <td style=\"padding-left: 1em; padding-right: 1em; text-align: center; vertical-align: top\">19</td>\n",
        "    </tr>\n",
        "</table>\n",
        "[10 rows x 5 columns]<br/>\n",
        "</div>"
       ],
       "metadata": {},
       "output_type": "pyout",
       "prompt_number": 3,
       "text": [
        "Columns:\n",
        "\tWord 1\tstr\n",
        "\tWord 2\tstr\n",
        "\tBaseline\tstr\n",
        "\tCo-occurrence\tstr\n",
        "\tDifference\tint\n",
        "\n",
        "Rows: 10\n",
        "\n",
        "Data:\n",
        "+--------+-------------+----------+---------------+------------+\n",
        "| Word 1 |    Word 2   | Baseline | Co-occurrence | Difference |\n",
        "+--------+-------------+----------+---------------+------------+\n",
        "| happi  | anniversari |   479    |       33      |    -446    |\n",
        "|  golf  |    insid    |    16    |       10      |     -6     |\n",
        "| nation |     love    |   164    |      598      |    434     |\n",
        "|  lot   |   compani   |   133    |       7       |    -126    |\n",
        "| three  |     red     |    53    |       21      |    -32     |\n",
        "| major  |     larg    |    18    |       24      |     6      |\n",
        "|   im   |    arriv    |    12    |       18      |     6      |\n",
        "|  nba   |    offer    |    22    |       26      |     4      |\n",
        "| group  |     near    |    23    |       65      |     42     |\n",
        "| today  |      au     |    15    |       34      |     19     |\n",
        "+--------+-------------+----------+---------------+------------+\n",
        "[10 rows x 5 columns]"
       ]
      }
     ],
     "prompt_number": 3
    },
    {
     "cell_type": "code",
     "collapsed": false,
     "input": [
      "#Now we'll find some interesting rows to look at by looking for big differences.\n",
      "#Using topk() to get the highest difference values. \n",
      "#***It might be interesting to look at high magnitude negative values as well in the future.\n",
      "interesting = combined.topk('Difference', 100)\n",
      "\n",
      "\n",
      "#Get the word-names for our interesting rows.\n",
      "temp = interesting.select_column('Word 1').append(interesting.select_column('Word 2')).unique()\n",
      "verts = rumor_verts.filter_by(temp,'word')\n",
      "verts.rename({'word':'__id'})\n",
      "\n",
      "\n",
      "#Create an SGraph so we can visualize the data:\n",
      "differenceGraph = gl.SGraph(vertices=verts, edges=interesting, vid_field='__id',src_field='Word 1', dst_field='Word 2')\n",
      "\n",
      "#Now lets take a look:\n",
      "differenceGraph.show(vlabel='__id', elabel='Co-occurrence', elabel_hover=True)"
     ],
     "language": "python",
     "metadata": {},
     "outputs": [],
     "prompt_number": 4
    },
    {
     "cell_type": "code",
     "collapsed": false,
     "input": [
      "#Placeholder"
     ],
     "language": "python",
     "metadata": {},
     "outputs": [],
     "prompt_number": 5
    },
    {
     "cell_type": "code",
     "collapsed": false,
     "input": [],
     "language": "python",
     "metadata": {},
     "outputs": [],
     "prompt_number": 5
    }
   ],
   "metadata": {}
  }
 ]
}