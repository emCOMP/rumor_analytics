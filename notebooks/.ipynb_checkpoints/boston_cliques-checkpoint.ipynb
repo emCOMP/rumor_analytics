{
 "metadata": {
  "name": "",
  "signature": "sha256:d94afb194c21e20098cb262d725e3c7f27535f2a8189ae4b88cc6d3feef50685"
 },
 "nbformat": 3,
 "nbformat_minor": 0,
 "worksheets": [
  {
   "cells": [
    {
     "cell_type": "heading",
     "level": 3,
     "metadata": {},
     "source": [
      "Importing and Formating Our Data"
     ]
    },
    {
     "cell_type": "code",
     "collapsed": false,
     "input": [
      "import graphlab as gl\n",
      "import networkx as nx\n",
      "\n",
      "baseline_path = \"/Users/Logan/Code/DRG/workspace/new_baseline/new_baseline_e_wNames.csv\"\n",
      "rumor_path = \"/Users/Logan/Code/DRG/workspace/csv/no_rt_e_wNames.csv\"\n",
      "rumor_vert_path = \"/Users/Logan/Code/DRG/workspace/csv/no_rt_v.csv\"\n",
      "\n",
      "baseline_edges = gl.SFrame.read_csv(baseline_path, True)\n",
      "rumor_edges = gl.SFrame.read_csv(rumor_path, True)\n",
      "rumor_verts = gl.SFrame.read_csv(rumor_vert_path, True)\n",
      "#Let's see what we have imported.\n",
      "baseline_edges.head()\n",
      "rumor_edges.head()"
     ],
     "language": "python",
     "metadata": {},
     "outputs": [
      {
       "html": [
        "<pre>PROGRESS: Finished parsing file /Users/Logan/Code/DRG/workspace/new_baseline/new_baseline_e_wNames.csv</pre>"
       ],
       "metadata": {},
       "output_type": "display_data",
       "text": [
        "PROGRESS: Finished parsing file /Users/Logan/Code/DRG/workspace/new_baseline/new_baseline_e_wNames.csv"
       ]
      },
      {
       "html": [
        "<pre>PROGRESS: Parsing completed. Parsed 100 lines in 0.805748 secs.</pre>"
       ],
       "metadata": {},
       "output_type": "display_data",
       "text": [
        "PROGRESS: Parsing completed. Parsed 100 lines in 0.805748 secs."
       ]
      },
      {
       "html": [
        "<pre>PROGRESS: Read 1506206 lines. Lines per second: 557449</pre>"
       ],
       "metadata": {},
       "output_type": "display_data",
       "text": [
        "PROGRESS: Read 1506206 lines. Lines per second: 557449"
       ]
      },
      {
       "html": [
        "<pre>PROGRESS: Finished parsing file /Users/Logan/Code/DRG/workspace/new_baseline/new_baseline_e_wNames.csv</pre>"
       ],
       "metadata": {},
       "output_type": "display_data",
       "text": [
        "PROGRESS: Finished parsing file /Users/Logan/Code/DRG/workspace/new_baseline/new_baseline_e_wNames.csv"
       ]
      },
      {
       "html": [
        "<pre>PROGRESS: Parsing completed. Parsed 4353368 lines in 5.03748 secs.</pre>"
       ],
       "metadata": {},
       "output_type": "display_data",
       "text": [
        "PROGRESS: Parsing completed. Parsed 4353368 lines in 5.03748 secs."
       ]
      },
      {
       "html": [
        "<pre>PROGRESS: Finished parsing file /Users/Logan/Code/DRG/rumor_analytics/csv/boston_full_e_wNames.csv</pre>"
       ],
       "metadata": {},
       "output_type": "display_data",
       "text": [
        "PROGRESS: Finished parsing file /Users/Logan/Code/DRG/rumor_analytics/csv/boston_full_e_wNames.csv"
       ]
      },
      {
       "html": [
        "<pre>PROGRESS: Read 1469017 lines. Lines per second: 640812</pre>"
       ],
       "metadata": {},
       "output_type": "display_data",
       "text": [
        "PROGRESS: Read 1469017 lines. Lines per second: 640812"
       ]
      },
      {
       "html": [
        "<pre>PROGRESS: Finished parsing file /Users/Logan/Code/DRG/rumor_analytics/csv/boston_full_e_wNames.csv</pre>"
       ],
       "metadata": {},
       "output_type": "display_data",
       "text": [
        "PROGRESS: Finished parsing file /Users/Logan/Code/DRG/rumor_analytics/csv/boston_full_e_wNames.csv"
       ]
      },
      {
       "html": [
        "<pre>PROGRESS: Parsing completed. Parsed 2890919 lines in 3.39675 secs.</pre>"
       ],
       "metadata": {},
       "output_type": "display_data",
       "text": [
        "PROGRESS: Parsing completed. Parsed 2890919 lines in 3.39675 secs."
       ]
      },
      {
       "html": [
        "<pre>PROGRESS: Finished parsing file /Users/Logan/Code/DRG/rumor_analytics/csv/boston_full_v.csv</pre>"
       ],
       "metadata": {},
       "output_type": "display_data",
       "text": [
        "PROGRESS: Finished parsing file /Users/Logan/Code/DRG/rumor_analytics/csv/boston_full_v.csv"
       ]
      },
      {
       "html": [
        "<pre>PROGRESS: Parsing completed. Parsed 100 lines in 0.037271 secs.</pre>"
       ],
       "metadata": {},
       "output_type": "display_data",
       "text": [
        "PROGRESS: Parsing completed. Parsed 100 lines in 0.037271 secs."
       ]
      },
      {
       "output_type": "stream",
       "stream": "stdout",
       "text": [
        "\n",
        "Could not detect types. Using str for each column."
       ]
      },
      {
       "html": [
        "<pre>PROGRESS: Finished parsing file /Users/Logan/Code/DRG/rumor_analytics/csv/boston_full_v.csv</pre>"
       ],
       "metadata": {},
       "output_type": "display_data",
       "text": [
        "PROGRESS: Finished parsing file /Users/Logan/Code/DRG/rumor_analytics/csv/boston_full_v.csv"
       ]
      },
      {
       "html": [
        "<pre>PROGRESS: Parsing completed. Parsed 92096 lines in 0.075643 secs.</pre>"
       ],
       "metadata": {},
       "output_type": "display_data",
       "text": [
        "PROGRESS: Parsing completed. Parsed 92096 lines in 0.075643 secs."
       ]
      },
      {
       "output_type": "stream",
       "stream": "stdout",
       "text": [
        "\n"
       ]
      },
      {
       "html": [
        "<div style=\"max-height:1000px;max-width:1500px;overflow:auto;\"><table frame=\"box\" rules=\"cols\">\n",
        "    <tr>\n",
        "        <th style=\"padding-left: 1em; padding-right: 1em; text-align: center\">Word 1</th>\n",
        "        <th style=\"padding-left: 1em; padding-right: 1em; text-align: center\">Word 2</th>\n",
        "        <th style=\"padding-left: 1em; padding-right: 1em; text-align: center\">Co-occurrence</th>\n",
        "    </tr>\n",
        "    <tr>\n",
        "        <td style=\"padding-left: 1em; padding-right: 1em; text-align: center; vertical-align: top\">sunil</td>\n",
        "        <td style=\"padding-left: 1em; padding-right: 1em; text-align: center; vertical-align: top\">radio</td>\n",
        "        <td style=\"padding-left: 1em; padding-right: 1em; text-align: center; vertical-align: top\">5.098089962631001e-06</td>\n",
        "    </tr>\n",
        "    <tr>\n",
        "        <td style=\"padding-left: 1em; padding-right: 1em; text-align: center; vertical-align: top\">alum</td>\n",
        "        <td style=\"padding-left: 1em; padding-right: 1em; text-align: center; vertical-align: top\">may</td>\n",
        "        <td style=\"padding-left: 1em; padding-right: 1em; text-align: center; vertical-align: top\">2.7117499801228726e-06</td>\n",
        "    </tr>\n",
        "    <tr>\n",
        "        <td style=\"padding-left: 1em; padding-right: 1em; text-align: center; vertical-align: top\">yg</td>\n",
        "        <td style=\"padding-left: 1em; padding-right: 1em; text-align: center; vertical-align: top\">saudaranya</td>\n",
        "        <td style=\"padding-left: 1em; padding-right: 1em; text-align: center; vertical-align: top\">1.4101099896638938e-06</td>\n",
        "    </tr>\n",
        "    <tr>\n",
        "        <td style=\"padding-left: 1em; padding-right: 1em; text-align: center; vertical-align: top\">lot</td>\n",
        "        <td style=\"padding-left: 1em; padding-right: 1em; text-align: center; vertical-align: top\">compani</td>\n",
        "        <td style=\"padding-left: 1em; padding-right: 1em; text-align: center; vertical-align: top\">1.7355199872786384e-06</td>\n",
        "    </tr>\n",
        "    <tr>\n",
        "        <td style=\"padding-left: 1em; padding-right: 1em; text-align: center; vertical-align: top\">updat</td>\n",
        "        <td style=\"padding-left: 1em; padding-right: 1em; text-align: center; vertical-align: top\">tamerlan</td>\n",
        "        <td style=\"padding-left: 1em; padding-right: 1em; text-align: center; vertical-align: top\">0.0001753959887143474</td>\n",
        "    </tr>\n",
        "    <tr>\n",
        "        <td style=\"padding-left: 1em; padding-right: 1em; text-align: center; vertical-align: top\">key</td>\n",
        "        <td style=\"padding-left: 1em; padding-right: 1em; text-align: center; vertical-align: top\">strong</td>\n",
        "        <td style=\"padding-left: 1em; padding-right: 1em; text-align: center; vertical-align: top\">7.592899944344043e-07</td>\n",
        "    </tr>\n",
        "    <tr>\n",
        "        <td style=\"padding-left: 1em; padding-right: 1em; text-align: center; vertical-align: top\">nation</td>\n",
        "        <td style=\"padding-left: 1em; padding-right: 1em; text-align: center; vertical-align: top\">love</td>\n",
        "        <td style=\"padding-left: 1em; padding-right: 1em; text-align: center; vertical-align: top\">2.1585529841778068e-05</td>\n",
        "    </tr>\n",
        "    <tr>\n",
        "        <td style=\"padding-left: 1em; padding-right: 1em; text-align: center; vertical-align: top\">launch</td>\n",
        "        <td style=\"padding-left: 1em; padding-right: 1em; text-align: center; vertical-align: top\">watertown</td>\n",
        "        <td style=\"padding-left: 1em; padding-right: 1em; text-align: center; vertical-align: top\">4.2954119685146304e-05</td>\n",
        "    </tr>\n",
        "    <tr>\n",
        "        <td style=\"padding-left: 1em; padding-right: 1em; text-align: center; vertical-align: top\">tkl</td>\n",
        "        <td style=\"padding-left: 1em; padding-right: 1em; text-align: center; vertical-align: top\">bomb</td>\n",
        "        <td style=\"padding-left: 1em; padding-right: 1em; text-align: center; vertical-align: top\">1.084699992049149e-06</td>\n",
        "    </tr>\n",
        "    <tr>\n",
        "        <td style=\"padding-left: 1em; padding-right: 1em; text-align: center; vertical-align: top\">left</td>\n",
        "        <td style=\"padding-left: 1em; padding-right: 1em; text-align: center; vertical-align: top\">attack</td>\n",
        "        <td style=\"padding-left: 1em; padding-right: 1em; text-align: center; vertical-align: top\">8.211178939812059e-05</td>\n",
        "    </tr>\n",
        "</table>\n",
        "[10 rows x 3 columns]<br/>\n",
        "</div>"
       ],
       "metadata": {},
       "output_type": "pyout",
       "prompt_number": 10,
       "text": [
        "Columns:\n",
        "\tWord 1\tstr\n",
        "\tWord 2\tstr\n",
        "\tCo-occurrence\tstr\n",
        "\n",
        "Rows: 10\n",
        "\n",
        "Data:\n",
        "+--------+------------+------------------------+\n",
        "| Word 1 |   Word 2   |     Co-occurrence      |\n",
        "+--------+------------+------------------------+\n",
        "| sunil  |   radio    | 5.098089962631001e-06  |\n",
        "|  alum  |    may     | 2.7117499801228726e-06 |\n",
        "|   yg   | saudaranya | 1.4101099896638938e-06 |\n",
        "|  lot   |  compani   | 1.7355199872786384e-06 |\n",
        "| updat  |  tamerlan  | 0.0001753959887143474  |\n",
        "|  key   |   strong   | 7.592899944344043e-07  |\n",
        "| nation |    love    | 2.1585529841778068e-05 |\n",
        "| launch | watertown  | 4.2954119685146304e-05 |\n",
        "|  tkl   |    bomb    | 1.084699992049149e-06  |\n",
        "|  left  |   attack   | 8.211178939812059e-05  |\n",
        "+--------+------------+------------------------+\n",
        "[10 rows x 3 columns]"
       ]
      }
     ],
     "prompt_number": 10
    },
    {
     "cell_type": "heading",
     "level": 3,
     "metadata": {},
     "source": [
      "Filtering the Baseline Data"
     ]
    },
    {
     "cell_type": "code",
     "collapsed": false,
     "input": [
      "#To get the subgraph of the baseline data \n",
      "#which corresponds to our rumor data, we will filter the baseline edge-list\n",
      "#by both of the 'Word' columns of our rumor data.\n",
      "\n",
      "rumor_words = rumor_edges.select_column(\"Word 1\") #Get the first word column.\n",
      "rumor_words = rumor_words.append(rumor_edges.select_column(\"Word 2\")) #Glue the second word column to the end of the first.\n",
      "\n",
      "#All of the words in the rumor set.\n",
      "rumor_words = rumor_words.unique()\n",
      "\n",
      "#All of the words which appear in BOTH sets.\n",
      "filtered_baseline = baseline_edges.filter_by(rumor_words, \"Word 1\").filter_by(rumor_words, \"Word 2\")\n",
      "\n",
      "#All baseline words.\n",
      "baseline_words = filtered_baseline.select_column(\"Word 1\").append(filtered_baseline.select_column(\"Word 2\"))\n",
      "baseline_words = baseline_words.unique()\n",
      "\n",
      "#Words which appear ONLY IN THE RUMOR SET\n",
      "rumor_only1 = rumor_edges.filter_by(baseline_words,\"Word 1\", exclude=True)\n",
      "rumor_only2 = rumor_edges.filter_by(baseline_words,\"Word 2\", exclude=True)\n",
      "rumor_only = rumor_only1.append(rumor_only2)\n",
      "rumor_only.show()\n",
      "\n",
      "#Now we'll add the terms that only occur in the rumor set to the baseline with a count of 0.\n",
      "rumor_only.remove_column('Co-occurrence')\n",
      "rumor_only.add_column(gl.SArray.from_const('0', rumor_only.num_rows()),'Co-occurrence') #Add a column of zeros.\n",
      "print rumor_only\n",
      "print 'Filtered', rumor_only.filter_by(['sunil'],'Word 1')\n",
      "filtered_baseline = filtered_baseline.append(rumor_only)\n",
      "print 'Before', filtered_baseline.filter_by(['craft'],'Word 1')\n",
      "\n",
      "#Change the name of co-occurence so we can tell the rumor and baseline counts appart.\n",
      "filtered_baseline.rename({'Co-occurrence':'Baseline'})\n",
      "\n",
      "#Remove search terms and rt terms.\n",
      "rumor_edges = rumor_edges.filter_by([\"boston\", \"marathon\", \"bomb\", \"explos\", \"blast\", 'r', 'rt'],\"Word 1\", exclude=True)\n",
      "rumor_edges = rumor_edges.filter_by([\"boston\", \"marathon\", \"bomb\", \"explos\", \"blast\", 'r', 'rt'],\"Word 2\", exclude=True)\n",
      "\n",
      "\n",
      "#Debug check\n",
      "print 'After', filtered_baseline.filter_by(['craft'],'Word 1')\n",
      "\n",
      "#Now let's join the counts into one SFrame (We will join a row if the pair of words matches.)\n",
      "combined_order = filtered_baseline.join(rumor_edges, on={'Word 1':'Word 1', 'Word 2':'Word 2'}) #All in ordr matches match.\n",
      "combined_reverse = filtered_baseline.join(rumor_edges, on={'Word 1':'Word 2', 'Word 2':'Word 1'}) #All reverse matches.\n",
      "\n",
      "\n",
      "combined = combined_order.append(combined_reverse)\n",
      "\n",
      "combined.head()"
     ],
     "language": "python",
     "metadata": {},
     "outputs": [
      {
       "output_type": "stream",
       "stream": "stdout",
       "text": [
        "+----------------+-------------+---------------+\n",
        "|     Word 1     |    Word 2   | Co-occurrence |\n",
        "+----------------+-------------+---------------+\n",
        "|     sunil      |    radio    |       0       |\n",
        "|      tkl       |     bomb    |       0       |\n",
        "|     sachat     |     pros    |       0       |\n",
        "|      mrt       |     bomb    |       0       |\n",
        "|      ttet      |   passiert  |       0       |\n",
        "|   netanyahus   |     911     |       0       |\n",
        "|   openfollow   |    rakyat   |       0       |\n",
        "|    meledak     |    deket    |       0       |\n",
        "| bostonmarathon |     cbs4    |       0       |\n",
        "|     bommen     | snelkookpan |       0       |\n",
        "|      ...       |     ...     |      ...      |\n",
        "+----------------+-------------+---------------+\n",
        "[781216 rows x 3 columns]\n",
        "Note: Only the head of the SFrame is printed.\n",
        "You can use print_rows(num_rows=m, num_columns=n) to print more rows and columns.\n",
        "Filtered "
       ]
      },
      {
       "output_type": "stream",
       "stream": "stdout",
       "text": [
        "+--------+--------+---------------+\n",
        "| Word 1 | Word 2 | Co-occurrence |\n",
        "+--------+--------+---------------+\n",
        "| sunil  | radio  |       0       |\n",
        "| sunil  | global |       0       |\n",
        "| sunil  | specif |       0       |\n",
        "| sunil  | moment |       0       |\n",
        "| sunil  |  hard  |       0       |\n",
        "| sunil  |  issu  |       0       |\n",
        "| sunil  | purpos |       0       |\n",
        "| sunil  |  plz   |       0       |\n",
        "| sunil  | foxnew |       0       |\n",
        "| sunil  | islam  |       0       |\n",
        "|  ...   |  ...   |      ...      |\n",
        "+--------+--------+---------------+\n",
        "[810 rows x 3 columns]\n",
        "Note: Only the head of the SFrame is printed.\n",
        "You can use print_rows(num_rows=m, num_columns=n) to print more rows and columns.\n",
        "Before "
       ]
      },
      {
       "output_type": "stream",
       "stream": "stdout",
       "text": [
        "+--------+---------+------------------------+\n",
        "| Word 1 |  Word 2 |     Co-occurrence      |\n",
        "+--------+---------+------------------------+\n",
        "| craft  | everyon | 1.4925486232157442e-06 |\n",
        "| craft  |   bead  | 2.755474381321374e-06  |\n",
        "| craft  |   beat  | 1.1481143255505725e-06 |\n",
        "| craft  |   join  | 5.051703032422519e-06  |\n",
        "| craft  |   hear  | 1.2629257581056297e-06 |\n",
        "| craft  |   head  | 2.411040083656202e-06  |\n",
        "| craft  |   4pm   | 1.377737190660687e-06  |\n",
        "| craft  |   non   | 8.036800278854008e-07  |\n",
        "| craft  |  discov | 8.036800278854008e-07  |\n",
        "| craft  | comment | 6.888685953303435e-07  |\n",
        "|  ...   |   ...   |          ...           |\n",
        "+--------+---------+------------------------+\n",
        "[366 rows x 3 columns]\n",
        "Note: Only the head of the SFrame is printed.\n",
        "You can use print_rows(num_rows=m, num_columns=n) to print more rows and columns.\n",
        "After"
       ]
      },
      {
       "output_type": "stream",
       "stream": "stdout",
       "text": [
        " +--------+---------+------------------------+\n",
        "| Word 1 |  Word 2 |        Baseline        |\n",
        "+--------+---------+------------------------+\n",
        "| craft  | everyon | 1.4925486232157442e-06 |\n",
        "| craft  |   bead  | 2.755474381321374e-06  |\n",
        "| craft  |   beat  | 1.1481143255505725e-06 |\n",
        "| craft  |   join  | 5.051703032422519e-06  |\n",
        "| craft  |   hear  | 1.2629257581056297e-06 |\n",
        "| craft  |   head  | 2.411040083656202e-06  |\n",
        "| craft  |   4pm   | 1.377737190660687e-06  |\n",
        "| craft  |   non   | 8.036800278854008e-07  |\n",
        "| craft  |  discov | 8.036800278854008e-07  |\n",
        "| craft  | comment | 6.888685953303435e-07  |\n",
        "|  ...   |   ...   |          ...           |\n",
        "+--------+---------+------------------------+\n",
        "[366 rows x 3 columns]\n",
        "Note: Only the head of the SFrame is printed.\n",
        "You can use print_rows(num_rows=m, num_columns=n) to print more rows and columns.\n"
       ]
      },
      {
       "html": [
        "<div style=\"max-height:1000px;max-width:1500px;overflow:auto;\"><table frame=\"box\" rules=\"cols\">\n",
        "    <tr>\n",
        "        <th style=\"padding-left: 1em; padding-right: 1em; text-align: center\">Word 1</th>\n",
        "        <th style=\"padding-left: 1em; padding-right: 1em; text-align: center\">Word 2</th>\n",
        "        <th style=\"padding-left: 1em; padding-right: 1em; text-align: center\">Baseline</th>\n",
        "        <th style=\"padding-left: 1em; padding-right: 1em; text-align: center\">Co-occurrence</th>\n",
        "    </tr>\n",
        "    <tr>\n",
        "        <td style=\"padding-left: 1em; padding-right: 1em; text-align: center; vertical-align: top\">key</td>\n",
        "        <td style=\"padding-left: 1em; padding-right: 1em; text-align: center; vertical-align: top\">strong</td>\n",
        "        <td style=\"padding-left: 1em; padding-right: 1em; text-align: center; vertical-align: top\">3.0999086789865457e-06</td>\n",
        "        <td style=\"padding-left: 1em; padding-right: 1em; text-align: center; vertical-align: top\">7.592899944344043e-07</td>\n",
        "    </tr>\n",
        "    <tr>\n",
        "        <td style=\"padding-left: 1em; padding-right: 1em; text-align: center; vertical-align: top\">today</td>\n",
        "        <td style=\"padding-left: 1em; padding-right: 1em; text-align: center; vertical-align: top\">tct</td>\n",
        "        <td style=\"padding-left: 1em; padding-right: 1em; text-align: center; vertical-align: top\">1.1481143255505725e-06</td>\n",
        "        <td style=\"padding-left: 1em; padding-right: 1em; text-align: center; vertical-align: top\">7.592899944344043e-07</td>\n",
        "    </tr>\n",
        "    <tr>\n",
        "        <td style=\"padding-left: 1em; padding-right: 1em; text-align: center; vertical-align: top\">nba</td>\n",
        "        <td style=\"padding-left: 1em; padding-right: 1em; text-align: center; vertical-align: top\">offer</td>\n",
        "        <td style=\"padding-left: 1em; padding-right: 1em; text-align: center; vertical-align: top\">4.477645869647233e-06</td>\n",
        "        <td style=\"padding-left: 1em; padding-right: 1em; text-align: center; vertical-align: top\">1.1931699912540639e-06</td>\n",
        "    </tr>\n",
        "    <tr>\n",
        "        <td style=\"padding-left: 1em; padding-right: 1em; text-align: center; vertical-align: top\">see</td>\n",
        "        <td style=\"padding-left: 1em; padding-right: 1em; text-align: center; vertical-align: top\">lawrenc</td>\n",
        "        <td style=\"padding-left: 1em; padding-right: 1em; text-align: center; vertical-align: top\">3.903588706871946e-06</td>\n",
        "        <td style=\"padding-left: 1em; padding-right: 1em; text-align: center; vertical-align: top\">3.362569975352362e-06</td>\n",
        "    </tr>\n",
        "    <tr>\n",
        "        <td style=\"padding-left: 1em; padding-right: 1em; text-align: center; vertical-align: top\">tryin</td>\n",
        "        <td style=\"padding-left: 1em; padding-right: 1em; text-align: center; vertical-align: top\">w</td>\n",
        "        <td style=\"padding-left: 1em; padding-right: 1em; text-align: center; vertical-align: top\">1.7221714883258588e-05</td>\n",
        "        <td style=\"padding-left: 1em; padding-right: 1em; text-align: center; vertical-align: top\">8.677599936393192e-07</td>\n",
        "    </tr>\n",
        "    <tr>\n",
        "        <td style=\"padding-left: 1em; padding-right: 1em; text-align: center; vertical-align: top\">got</td>\n",
        "        <td style=\"padding-left: 1em; padding-right: 1em; text-align: center; vertical-align: top\">bread</td>\n",
        "        <td style=\"padding-left: 1em; padding-right: 1em; text-align: center; vertical-align: top\">3.3524938306076716e-05</td>\n",
        "        <td style=\"padding-left: 1em; padding-right: 1em; text-align: center; vertical-align: top\">2.0609299848933834e-06</td>\n",
        "    </tr>\n",
        "    <tr>\n",
        "        <td style=\"padding-left: 1em; padding-right: 1em; text-align: center; vertical-align: top\">today</td>\n",
        "        <td style=\"padding-left: 1em; padding-right: 1em; text-align: center; vertical-align: top\">furlough</td>\n",
        "        <td style=\"padding-left: 1em; padding-right: 1em; text-align: center; vertical-align: top\">1.4925486232157442e-06</td>\n",
        "        <td style=\"padding-left: 1em; padding-right: 1em; text-align: center; vertical-align: top\">9.762299928442342e-07</td>\n",
        "    </tr>\n",
        "    <tr>\n",
        "        <td style=\"padding-left: 1em; padding-right: 1em; text-align: center; vertical-align: top\">thx</td>\n",
        "        <td style=\"padding-left: 1em; padding-right: 1em; text-align: center; vertical-align: top\">site</td>\n",
        "        <td style=\"padding-left: 1em; padding-right: 1em; text-align: center; vertical-align: top\">1.1595954688060782e-05</td>\n",
        "        <td style=\"padding-left: 1em; padding-right: 1em; text-align: center; vertical-align: top\">6.508199952294895e-07</td>\n",
        "    </tr>\n",
        "    <tr>\n",
        "        <td style=\"padding-left: 1em; padding-right: 1em; text-align: center; vertical-align: top\">im</td>\n",
        "        <td style=\"padding-left: 1em; padding-right: 1em; text-align: center; vertical-align: top\">arriv</td>\n",
        "        <td style=\"padding-left: 1em; padding-right: 1em; text-align: center; vertical-align: top\">4.018400139427004e-06</td>\n",
        "        <td style=\"padding-left: 1em; padding-right: 1em; text-align: center; vertical-align: top\">1.1606289914925895e-05</td>\n",
        "    </tr>\n",
        "    <tr>\n",
        "        <td style=\"padding-left: 1em; padding-right: 1em; text-align: center; vertical-align: top\">someth</td>\n",
        "        <td style=\"padding-left: 1em; padding-right: 1em; text-align: center; vertical-align: top\">diff</td>\n",
        "        <td style=\"padding-left: 1em; padding-right: 1em; text-align: center; vertical-align: top\">7.462743116078721e-06</td>\n",
        "        <td style=\"padding-left: 1em; padding-right: 1em; text-align: center; vertical-align: top\">8.677599936393192e-07</td>\n",
        "    </tr>\n",
        "</table>\n",
        "[10 rows x 4 columns]<br/>\n",
        "</div>"
       ],
       "metadata": {},
       "output_type": "pyout",
       "prompt_number": 11,
       "text": [
        "Columns:\n",
        "\tWord 1\tstr\n",
        "\tWord 2\tstr\n",
        "\tBaseline\tstr\n",
        "\tCo-occurrence\tstr\n",
        "\n",
        "Rows: 10\n",
        "\n",
        "Data:\n",
        "+--------+----------+------------------------+------------------------+\n",
        "| Word 1 |  Word 2  |        Baseline        |     Co-occurrence      |\n",
        "+--------+----------+------------------------+------------------------+\n",
        "|  key   |  strong  | 3.0999086789865457e-06 | 7.592899944344043e-07  |\n",
        "| today  |   tct    | 1.1481143255505725e-06 | 7.592899944344043e-07  |\n",
        "|  nba   |  offer   | 4.477645869647233e-06  | 1.1931699912540639e-06 |\n",
        "|  see   | lawrenc  | 3.903588706871946e-06  | 3.362569975352362e-06  |\n",
        "| tryin  |    w     | 1.7221714883258588e-05 | 8.677599936393192e-07  |\n",
        "|  got   |  bread   | 3.3524938306076716e-05 | 2.0609299848933834e-06 |\n",
        "| today  | furlough | 1.4925486232157442e-06 | 9.762299928442342e-07  |\n",
        "|  thx   |   site   | 1.1595954688060782e-05 | 6.508199952294895e-07  |\n",
        "|   im   |  arriv   | 4.018400139427004e-06  | 1.1606289914925895e-05 |\n",
        "| someth |   diff   | 7.462743116078721e-06  | 8.677599936393192e-07  |\n",
        "+--------+----------+------------------------+------------------------+\n",
        "[10 rows x 4 columns]"
       ]
      }
     ],
     "prompt_number": 11
    },
    {
     "cell_type": "heading",
     "level": 3,
     "metadata": {},
     "source": [
      "Comparing the Networks"
     ]
    },
    {
     "cell_type": "code",
     "collapsed": false,
     "input": [
      "#We will take the difference between the baseline and the rumor data for each co-occurence pair.\n",
      "edge_difference = combined.apply(lambda x: float(x['Co-occurrence']) - float(x['Baseline']))\n",
      "combined.add_column(edge_difference,'Difference')\n",
      "\n",
      "#Find the point where \n",
      "combined_diff = combined.select_column('Difference')\n",
      "combined_max = combined_diff.max()\n",
      "\n",
      "combined_mean = combined_diff.mean()\n",
      "combined_std = combined_diff.std()\n",
      "z_threshold = combined_mean + (2*combined_std) #Z-Score of +2\n",
      "\n",
      "#Filter our combined edgeset so we are left with the outliers from the right-side of the distribution.\n",
      "outlier_col = combined.apply(lambda x: bool(x['Difference']>= z_threshold))\n",
      "combined.add_column(outlier_col,'is_outlier')\n",
      "print combined.head()\n",
      "\n",
      "interesting = combined.filter_by([True],'is_outlier')"
     ],
     "language": "python",
     "metadata": {},
     "outputs": [
      {
       "output_type": "stream",
       "stream": "stdout",
       "text": [
        "+--------+----------+------------------------+------------------------+\n",
        "| Word 1 |  Word 2  |        Baseline        |     Co-occurrence      |\n",
        "+--------+----------+------------------------+------------------------+\n",
        "|  key   |  strong  | 3.0999086789865457e-06 | 7.592899944344043e-07  |\n",
        "| today  |   tct    | 1.1481143255505725e-06 | 7.592899944344043e-07  |\n",
        "|  nba   |  offer   | 4.477645869647233e-06  | 1.1931699912540639e-06 |\n",
        "|  see   | lawrenc  | 3.903588706871946e-06  | 3.362569975352362e-06  |\n",
        "| tryin  |    w     | 1.7221714883258588e-05 | 8.677599936393192e-07  |\n",
        "|  got   |  bread   | 3.3524938306076716e-05 | 2.0609299848933834e-06 |\n",
        "| today  | furlough | 1.4925486232157442e-06 | 9.762299928442342e-07  |\n",
        "|  thx   |   site   | 1.1595954688060782e-05 | 6.508199952294895e-07  |\n",
        "|   im   |  arriv   | 4.018400139427004e-06  | 1.1606289914925895e-05 |\n",
        "| someth |   diff   | 7.462743116078721e-06  | 8.677599936393192e-07  |\n",
        "+--------+----------+------------------------+------------------------+\n",
        "+--------------------+------------+\n",
        "|     Difference     | is_outlier |\n",
        "+--------------------+------------+\n",
        "| -2.34061868455e-06 |     0      |\n",
        "| -3.88824331116e-07 |     0      |\n",
        "| -3.28447587839e-06 |     0      |\n",
        "| -5.4101873152e-07  |     0      |\n",
        "| -1.63539548896e-05 |     0      |\n",
        "| -3.14640083212e-05 |     0      |\n",
        "| -5.16318630372e-07 |     0      |\n",
        "| -1.09451346928e-05 |     0      |\n",
        "|  7.5878897755e-06  |     0      |\n",
        "| -6.59498312244e-06 |     0      |\n",
        "+--------------------+------------+\n",
        "[10 rows x 6 columns]\n",
        "\n"
       ]
      }
     ],
     "prompt_number": 12
    },
    {
     "cell_type": "code",
     "collapsed": false,
     "input": [
      "combined.save('/Users/Logan/Code/DRG/rumor_analytics/csv/boston_no_rt_full.csv','csv')"
     ],
     "language": "python",
     "metadata": {},
     "outputs": [],
     "prompt_number": 13
    },
    {
     "cell_type": "heading",
     "level": 3,
     "metadata": {},
     "source": [
      "Viewing In GraphLab"
     ]
    },
    {
     "cell_type": "code",
     "collapsed": false,
     "input": [
      "interesting_gl = interesting.topk('Difference', 110)\n",
      "\n",
      "#Get the word-names for our interesting rows.\n",
      "temp = interesting_gl.select_column('Word 1').append(interesting_gl.select_column('Word 2')).unique()\n",
      "verts = rumor_verts.filter_by(temp,'word')\n",
      "verts.rename({'word':'__id'})\n",
      "\n",
      "\n",
      "#Create an SGraph so we can visualize the data:\n",
      "differenceGraph = gl.SGraph(vertices=verts, edges=interesting_gl, vid_field='__id',src_field='Word 1', dst_field='Word 2')\n",
      "\n",
      "#Now lets take a look:\n",
      "differenceGraph.show(vlabel='__id', elabel='Co-occurrence', elabel_hover=True)"
     ],
     "language": "python",
     "metadata": {},
     "outputs": [],
     "prompt_number": 14
    },
    {
     "cell_type": "heading",
     "level": 3,
     "metadata": {},
     "source": [
      "Finding Cliques"
     ]
    },
    {
     "cell_type": "code",
     "collapsed": false,
     "input": [
      "#Export the edgelist.\n",
      "#combined.rename({'Word 1':'Source','Word 2':'Target','Difference':'Weight'}).save('boston_diff_e.csv',format='csv')\n",
      "interesting.remove_columns(['Co-occurrence','Baseline','is_outlier'])\n",
      "interesting.save('/Users/Logan/Code/DRG/rumor_analytics/csv/boston_no_rt_filtered.csv',format='csv')"
     ],
     "language": "python",
     "metadata": {},
     "outputs": [],
     "prompt_number": 15
    },
    {
     "cell_type": "code",
     "collapsed": false,
     "input": [
      "#Import our graph to NetworkX\n",
      "g = None\n",
      "headers = None\n",
      "with open('boston_diff_filtered.csv','rb') as f:\n",
      "    headers = f.readline()\n",
      "    g = nx.read_weighted_edgelist(f, comments='#', delimiter=',', encoding='utf-8')\n",
      "    \n",
      "nx.info(g)"
     ],
     "language": "python",
     "metadata": {},
     "outputs": []
    },
    {
     "cell_type": "heading",
     "level": 3,
     "metadata": {},
     "source": [
      "Running the Clique-Finding Algorithm"
     ]
    },
    {
     "cell_type": "code",
     "collapsed": false,
     "input": [
      "#cliques = list(nx.find_cliques(g))\n",
      "#print cliques"
     ],
     "language": "python",
     "metadata": {},
     "outputs": []
    },
    {
     "cell_type": "code",
     "collapsed": false,
     "input": [],
     "language": "python",
     "metadata": {},
     "outputs": []
    }
   ],
   "metadata": {}
  }
 ]
}