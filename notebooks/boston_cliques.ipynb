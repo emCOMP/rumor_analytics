{
 "metadata": {
  "name": "",
  "signature": "sha256:8a6ce8a52d8c8366df900e0fac0faf32674771c0eee9e038421395c9de1e48a4"
 },
 "nbformat": 3,
 "nbformat_minor": 0,
 "worksheets": [
  {
   "cells": [
    {
     "cell_type": "heading",
     "level": 3,
     "metadata": {},
     "source": [
      "Importing and Formating Our Data"
     ]
    },
    {
     "cell_type": "code",
     "collapsed": false,
     "input": [
      "import graphlab as gl\n",
      "import networkx as nx\n",
      "\n",
      "baseline_path = \"/Users/Logan/Code/DRG/workspace/new_baseline/new_baseline_e_wNames.csv\"\n",
      "rumor_path = \"/Users/Logan/Code/DRG/workspace/csv/no_rt_e_wNames.csv\"\n",
      "rumor_vert_path = \"/Users/Logan/Code/DRG/workspace/csv/no_rt_v.csv\"\n",
      "\n",
      "baseline_edges = gl.SFrame.read_csv(baseline_path, True)\n",
      "rumor_edges = gl.SFrame.read_csv(rumor_path, True)\n",
      "rumor_verts = gl.SFrame.read_csv(rumor_vert_path, True)\n",
      "#Let's see what we have imported.\n",
      "baseline_edges.head()\n",
      "rumor_edges.head()"
     ],
     "language": "python",
     "metadata": {},
     "outputs": [
      {
       "html": [
        "<pre>PROGRESS: Finished parsing file /Users/Logan/Code/DRG/workspace/new_baseline/new_baseline_e_wNames.csv</pre>"
       ],
       "metadata": {},
       "output_type": "display_data",
       "text": [
        "PROGRESS: Finished parsing file /Users/Logan/Code/DRG/workspace/new_baseline/new_baseline_e_wNames.csv"
       ]
      },
      {
       "html": [
        "<pre>PROGRESS: Parsing completed. Parsed 100 lines in 0.962572 secs.</pre>"
       ],
       "metadata": {},
       "output_type": "display_data",
       "text": [
        "PROGRESS: Parsing completed. Parsed 100 lines in 0.962572 secs."
       ]
      },
      {
       "html": [
        "<pre>PROGRESS: Read 1506206 lines. Lines per second: 544592</pre>"
       ],
       "metadata": {},
       "output_type": "display_data",
       "text": [
        "PROGRESS: Read 1506206 lines. Lines per second: 544592"
       ]
      },
      {
       "html": [
        "<pre>PROGRESS: Finished parsing file /Users/Logan/Code/DRG/workspace/new_baseline/new_baseline_e_wNames.csv</pre>"
       ],
       "metadata": {},
       "output_type": "display_data",
       "text": [
        "PROGRESS: Finished parsing file /Users/Logan/Code/DRG/workspace/new_baseline/new_baseline_e_wNames.csv"
       ]
      },
      {
       "html": [
        "<pre>PROGRESS: Parsing completed. Parsed 4353368 lines in 5.20694 secs.</pre>"
       ],
       "metadata": {},
       "output_type": "display_data",
       "text": [
        "PROGRESS: Parsing completed. Parsed 4353368 lines in 5.20694 secs."
       ]
      },
      {
       "html": [
        "<pre>PROGRESS: Finished parsing file /Users/Logan/Code/DRG/workspace/csv/no_rt_e_wNames.csv</pre>"
       ],
       "metadata": {},
       "output_type": "display_data",
       "text": [
        "PROGRESS: Finished parsing file /Users/Logan/Code/DRG/workspace/csv/no_rt_e_wNames.csv"
       ]
      },
      {
       "html": [
        "<pre>PROGRESS: Parsing completed. Parsed 100 lines in 0.674709 secs.</pre>"
       ],
       "metadata": {},
       "output_type": "display_data",
       "text": [
        "PROGRESS: Parsing completed. Parsed 100 lines in 0.674709 secs."
       ]
      },
      {
       "output_type": "stream",
       "stream": "stdout",
       "text": [
        "Could not detect types. Using str for each column.\n",
        "Could not detect types. Using str for each column."
       ]
      },
      {
       "html": [
        "<pre>PROGRESS: Finished parsing file /Users/Logan/Code/DRG/workspace/csv/no_rt_e_wNames.csv</pre>"
       ],
       "metadata": {},
       "output_type": "display_data",
       "text": [
        "PROGRESS: Finished parsing file /Users/Logan/Code/DRG/workspace/csv/no_rt_e_wNames.csv"
       ]
      },
      {
       "html": [
        "<pre>PROGRESS: Parsing completed. Parsed 1400065 lines in 1.65393 secs.</pre>"
       ],
       "metadata": {},
       "output_type": "display_data",
       "text": [
        "PROGRESS: Parsing completed. Parsed 1400065 lines in 1.65393 secs."
       ]
      },
      {
       "html": [
        "<pre>PROGRESS: Finished parsing file /Users/Logan/Code/DRG/workspace/csv/no_rt_v.csv</pre>"
       ],
       "metadata": {},
       "output_type": "display_data",
       "text": [
        "PROGRESS: Finished parsing file /Users/Logan/Code/DRG/workspace/csv/no_rt_v.csv"
       ]
      },
      {
       "html": [
        "<pre>PROGRESS: Parsing completed. Parsed 100 lines in 0.023754 secs.</pre>"
       ],
       "metadata": {},
       "output_type": "display_data",
       "text": [
        "PROGRESS: Parsing completed. Parsed 100 lines in 0.023754 secs."
       ]
      },
      {
       "output_type": "stream",
       "stream": "stdout",
       "text": [
        "\n",
        "Could not detect types. Using str for each column."
       ]
      },
      {
       "html": [
        "<pre>PROGRESS: Finished parsing file /Users/Logan/Code/DRG/workspace/csv/no_rt_v.csv</pre>"
       ],
       "metadata": {},
       "output_type": "display_data",
       "text": [
        "PROGRESS: Finished parsing file /Users/Logan/Code/DRG/workspace/csv/no_rt_v.csv"
       ]
      },
      {
       "html": [
        "<pre>PROGRESS: Parsing completed. Parsed 48053 lines in 0.055709 secs.</pre>"
       ],
       "metadata": {},
       "output_type": "display_data",
       "text": [
        "PROGRESS: Parsing completed. Parsed 48053 lines in 0.055709 secs."
       ]
      },
      {
       "output_type": "stream",
       "stream": "stdout",
       "text": [
        "\n"
       ]
      },
      {
       "html": [
        "<div style=\"max-height:1000px;max-width:1500px;overflow:auto;\"><table frame=\"box\" rules=\"cols\">\n",
        "    <tr>\n",
        "        <th style=\"padding-left: 1em; padding-right: 1em; text-align: center\">Word 1</th>\n",
        "        <th style=\"padding-left: 1em; padding-right: 1em; text-align: center\">Word 2</th>\n",
        "        <th style=\"padding-left: 1em; padding-right: 1em; text-align: center\">Co-occurrence</th>\n",
        "    </tr>\n",
        "    <tr>\n",
        "        <td style=\"padding-left: 1em; padding-right: 1em; text-align: center; vertical-align: top\">kita</td>\n",
        "        <td style=\"padding-left: 1em; padding-right: 1em; text-align: center; vertical-align: top\">harus</td>\n",
        "        <td style=\"padding-left: 1em; padding-right: 1em; text-align: center; vertical-align: top\">2.0208797293637867e-06</td>\n",
        "    </tr>\n",
        "    <tr>\n",
        "        <td style=\"padding-left: 1em; padding-right: 1em; text-align: center; vertical-align: top\">sunil</td>\n",
        "        <td style=\"padding-left: 1em; padding-right: 1em; text-align: center; vertical-align: top\">radio</td>\n",
        "        <td style=\"padding-left: 1em; padding-right: 1em; text-align: center; vertical-align: top\">2.0208797293637867e-06</td>\n",
        "    </tr>\n",
        "    <tr>\n",
        "        <td style=\"padding-left: 1em; padding-right: 1em; text-align: center; vertical-align: top\">sleev</td>\n",
        "        <td style=\"padding-left: 1em; padding-right: 1em; text-align: center; vertical-align: top\">show</td>\n",
        "        <td style=\"padding-left: 1em; padding-right: 1em; text-align: center; vertical-align: top\">8.6609131258448e-07</td>\n",
        "    </tr>\n",
        "    <tr>\n",
        "        <td style=\"padding-left: 1em; padding-right: 1em; text-align: center; vertical-align: top\">got</td>\n",
        "        <td style=\"padding-left: 1em; padding-right: 1em; text-align: center; vertical-align: top\">break</td>\n",
        "        <td style=\"padding-left: 1em; padding-right: 1em; text-align: center; vertical-align: top\">4.806806784843864e-05</td>\n",
        "    </tr>\n",
        "    <tr>\n",
        "        <td style=\"padding-left: 1em; padding-right: 1em; text-align: center; vertical-align: top\">chicago</td>\n",
        "        <td style=\"padding-left: 1em; padding-right: 1em; text-align: center; vertical-align: top\">titl</td>\n",
        "        <td style=\"padding-left: 1em; padding-right: 1em; text-align: center; vertical-align: top\">8.6609131258448e-07</td>\n",
        "    </tr>\n",
        "    <tr>\n",
        "        <td style=\"padding-left: 1em; padding-right: 1em; text-align: center; vertical-align: top\">updat</td>\n",
        "        <td style=\"padding-left: 1em; padding-right: 1em; text-align: center; vertical-align: top\">tamerlan</td>\n",
        "        <td style=\"padding-left: 1em; padding-right: 1em; text-align: center; vertical-align: top\">2.6704482138021466e-05</td>\n",
        "    </tr>\n",
        "    <tr>\n",
        "        <td style=\"padding-left: 1em; padding-right: 1em; text-align: center; vertical-align: top\">got</td>\n",
        "        <td style=\"padding-left: 1em; padding-right: 1em; text-align: center; vertical-align: top\">bread</td>\n",
        "        <td style=\"padding-left: 1em; padding-right: 1em; text-align: center; vertical-align: top\">1.1547884167793066e-06</td>\n",
        "    </tr>\n",
        "    <tr>\n",
        "        <td style=\"padding-left: 1em; padding-right: 1em; text-align: center; vertical-align: top\">nation</td>\n",
        "        <td style=\"padding-left: 1em; padding-right: 1em; text-align: center; vertical-align: top\">love</td>\n",
        "        <td style=\"padding-left: 1em; padding-right: 1em; text-align: center; vertical-align: top\">1.5445295074423228e-05</td>\n",
        "    </tr>\n",
        "    <tr>\n",
        "        <td style=\"padding-left: 1em; padding-right: 1em; text-align: center; vertical-align: top\">launch</td>\n",
        "        <td style=\"padding-left: 1em; padding-right: 1em; text-align: center; vertical-align: top\">watertown</td>\n",
        "        <td style=\"padding-left: 1em; padding-right: 1em; text-align: center; vertical-align: top\">1.0104398646818934e-06</td>\n",
        "    </tr>\n",
        "    <tr>\n",
        "        <td style=\"padding-left: 1em; padding-right: 1em; text-align: center; vertical-align: top\">israel</td>\n",
        "        <td style=\"padding-left: 1em; padding-right: 1em; text-align: center; vertical-align: top\">week</td>\n",
        "        <td style=\"padding-left: 1em; padding-right: 1em; text-align: center; vertical-align: top\">5.62959353179912e-06</td>\n",
        "    </tr>\n",
        "</table>\n",
        "[10 rows x 3 columns]<br/>\n",
        "</div>"
       ],
       "metadata": {},
       "output_type": "pyout",
       "prompt_number": 7,
       "text": [
        "Columns:\n",
        "\tWord 1\tstr\n",
        "\tWord 2\tstr\n",
        "\tCo-occurrence\tstr\n",
        "\n",
        "Rows: 10\n",
        "\n",
        "Data:\n",
        "+---------+-----------+------------------------+\n",
        "|  Word 1 |   Word 2  |     Co-occurrence      |\n",
        "+---------+-----------+------------------------+\n",
        "|   kita  |   harus   | 2.0208797293637867e-06 |\n",
        "|  sunil  |   radio   | 2.0208797293637867e-06 |\n",
        "|  sleev  |    show   |  8.6609131258448e-07   |\n",
        "|   got   |   break   | 4.806806784843864e-05  |\n",
        "| chicago |    titl   |  8.6609131258448e-07   |\n",
        "|  updat  |  tamerlan | 2.6704482138021466e-05 |\n",
        "|   got   |   bread   | 1.1547884167793066e-06 |\n",
        "|  nation |    love   | 1.5445295074423228e-05 |\n",
        "|  launch | watertown | 1.0104398646818934e-06 |\n",
        "|  israel |    week   |  5.62959353179912e-06  |\n",
        "+---------+-----------+------------------------+\n",
        "[10 rows x 3 columns]"
       ]
      }
     ],
     "prompt_number": 7
    },
    {
     "cell_type": "heading",
     "level": 3,
     "metadata": {},
     "source": [
      "Filtering the Baseline Data"
     ]
    },
    {
     "cell_type": "code",
     "collapsed": false,
     "input": [
      "#To get the subgraph of the baseline data \n",
      "#which corresponds to our rumor data, we will filter the baseline edge-list\n",
      "#by both of the 'Word' columns of our rumor data.\n",
      "\n",
      "rumor_words = rumor_edges.select_column(\"Word 1\") #Get the first word column.\n",
      "rumor_words = rumor_words.append(rumor_edges.select_column(\"Word 2\")) #Glue the second word column to the end of the first.\n",
      "\n",
      "#All of the words in the rumor set.\n",
      "rumor_words = rumor_words.unique()\n",
      "\n",
      "#All of the words which appear in BOTH sets.\n",
      "filtered_baseline = baseline_edges.filter_by(rumor_words, \"Word 1\").filter_by(rumor_words, \"Word 2\")\n",
      "\n",
      "#All baseline words.\n",
      "baseline_words = filtered_baseline.select_column(\"Word 1\").append(filtered_baseline.select_column(\"Word 2\"))\n",
      "baseline_words = baseline_words.unique()\n",
      "\n",
      "#Words which appear ONLY IN THE RUMOR SET\n",
      "rumor_only1 = rumor_edges.filter_by(baseline_words,\"Word 1\", exclude=True)\n",
      "rumor_only2 = rumor_edges.filter_by(baseline_words,\"Word 2\", exclude=True)\n",
      "rumor_only = rumor_only1.append(rumor_only2)\n",
      "rumor_only.show()\n",
      "\n",
      "#Now we'll add the terms that only occur in the rumor set to the baseline with a count of 0.\n",
      "rumor_only.remove_column('Co-occurrence')\n",
      "rumor_only.add_column(gl.SArray.from_const('0', rumor_only.num_rows()),'Co-occurrence') #Add a column of zeros.\n",
      "print rumor_only\n",
      "print 'Filtered', rumor_only.filter_by(['sunil'],'Word 1')\n",
      "filtered_baseline = filtered_baseline.append(rumor_only)\n",
      "print 'Before', filtered_baseline.filter_by(['craft'],'Word 1')\n",
      "\n",
      "#Change the name of co-occurence so we can tell the rumor and baseline counts appart.\n",
      "filtered_baseline.rename({'Co-occurrence':'Baseline'})\n",
      "\n",
      "#Remove search terms and rt terms.\n",
      "rumor_edges = rumor_edges.filter_by([\"boston\", \"marathon\", \"bomb\", \"explos\", \"blast\", 'r', 'rt'],\"Word 1\", exclude=True)\n",
      "rumor_edges = rumor_edges.filter_by([\"boston\", \"marathon\", \"bomb\", \"explos\", \"blast\", 'r', 'rt'],\"Word 2\", exclude=True)\n",
      "\n",
      "\n",
      "#Debug check\n",
      "print 'After', filtered_baseline.filter_by(['craft'],'Word 1')\n",
      "\n",
      "#Now let's join the counts into one SFrame (We will join a row if the pair of words matches.)\n",
      "combined_order = filtered_baseline.join(rumor_edges, on={'Word 1':'Word 1', 'Word 2':'Word 2'}) #All in ordr matches match.\n",
      "combined_reverse = filtered_baseline.join(rumor_edges, on={'Word 1':'Word 2', 'Word 2':'Word 1'}) #All reverse matches.\n",
      "\n",
      "\n",
      "combined = combined_order.append(combined_reverse)\n",
      "\n",
      "combined.head()"
     ],
     "language": "python",
     "metadata": {},
     "outputs": [
      {
       "output_type": "stream",
       "stream": "stdout",
       "text": [
        "+-------------------+----------------+---------------+\n",
        "|       Word 1      |     Word 2     | Co-occurrence |\n",
        "+-------------------+----------------+---------------+\n",
        "|       sunil       |     radio      |       0       |\n",
        "|        eryk       |      kid       |       0       |\n",
        "|      tsarneav     |     captur     |       0       |\n",
        "| 5wordsihatetohear |      kill      |       0       |\n",
        "|   bostonmarathon  |      psu       |       0       |\n",
        "|        gome       |     custom     |       0       |\n",
        "|        mrt        |      bomb      |       0       |\n",
        "|        kamb       |      via       |       0       |\n",
        "|       tersan      | teamfollowback |       0       |\n",
        "|     applebaum     |     eerili     |       0       |\n",
        "|        ...        |      ...       |      ...      |\n",
        "+-------------------+----------------+---------------+\n",
        "[238200 rows x 3 columns]\n",
        "Note: Only the head of the SFrame is printed.\n",
        "You can use print_rows(num_rows=m, num_columns=n) to print more rows and columns.\n",
        "Filtered "
       ]
      },
      {
       "output_type": "stream",
       "stream": "stdout",
       "text": [
        "+--------+----------------+---------------+\n",
        "| Word 1 |     Word 2     | Co-occurrence |\n",
        "+--------+----------------+---------------+\n",
        "| sunil  |     radio      |       0       |\n",
        "| sunil  |     incid      |       0       |\n",
        "| sunil  |     social     |       0       |\n",
        "| sunil  |    unknown     |       0       |\n",
        "| sunil  |    depress     |       0       |\n",
        "| sunil  | bostonmarathon |       0       |\n",
        "| sunil  |      issu      |       0       |\n",
        "| sunil  |     second     |       0       |\n",
        "| sunil  |      case      |       0       |\n",
        "| sunil  |       id       |       0       |\n",
        "|  ...   |      ...       |      ...      |\n",
        "+--------+----------------+---------------+\n",
        "[395 rows x 3 columns]\n",
        "Note: Only the head of the SFrame is printed.\n",
        "You can use print_rows(num_rows=m, num_columns=n) to print more rows and columns.\n",
        "Before "
       ]
      },
      {
       "output_type": "stream",
       "stream": "stdout",
       "text": [
        "+--------+---------+------------------------+\n",
        "| Word 1 |  Word 2 |     Co-occurrence      |\n",
        "+--------+---------+------------------------+\n",
        "| craft  | everyon | 1.4925486232157442e-06 |\n",
        "| craft  |   bead  | 2.755474381321374e-06  |\n",
        "| craft  |   beat  | 1.1481143255505725e-06 |\n",
        "| craft  |   join  | 5.051703032422519e-06  |\n",
        "| craft  |   hear  | 1.2629257581056297e-06 |\n",
        "| craft  |   head  | 2.411040083656202e-06  |\n",
        "| craft  |   4pm   | 1.377737190660687e-06  |\n",
        "| craft  |  discov | 8.036800278854008e-07  |\n",
        "| craft  | comment | 6.888685953303435e-07  |\n",
        "| craft  |  fight  |  9.18491460440458e-07  |\n",
        "|  ...   |   ...   |          ...           |\n",
        "+--------+---------+------------------------+\n",
        "[357 rows x 3 columns]\n",
        "Note: Only the head of the SFrame is printed.\n",
        "You can use print_rows(num_rows=m, num_columns=n) to print more rows and columns.\n",
        "After"
       ]
      },
      {
       "output_type": "stream",
       "stream": "stdout",
       "text": [
        " +--------+---------+------------------------+\n",
        "| Word 1 |  Word 2 |        Baseline        |\n",
        "+--------+---------+------------------------+\n",
        "| craft  | everyon | 1.4925486232157442e-06 |\n",
        "| craft  |   bead  | 2.755474381321374e-06  |\n",
        "| craft  |   beat  | 1.1481143255505725e-06 |\n",
        "| craft  |   join  | 5.051703032422519e-06  |\n",
        "| craft  |   hear  | 1.2629257581056297e-06 |\n",
        "| craft  |   head  | 2.411040083656202e-06  |\n",
        "| craft  |   4pm   | 1.377737190660687e-06  |\n",
        "| craft  |  discov | 8.036800278854008e-07  |\n",
        "| craft  | comment | 6.888685953303435e-07  |\n",
        "| craft  |  fight  |  9.18491460440458e-07  |\n",
        "|  ...   |   ...   |          ...           |\n",
        "+--------+---------+------------------------+\n",
        "[357 rows x 3 columns]\n",
        "Note: Only the head of the SFrame is printed.\n",
        "You can use print_rows(num_rows=m, num_columns=n) to print more rows and columns."
       ]
      },
      {
       "output_type": "stream",
       "stream": "stdout",
       "text": [
        "\n"
       ]
      },
      {
       "html": [
        "<div style=\"max-height:1000px;max-width:1500px;overflow:auto;\"><table frame=\"box\" rules=\"cols\">\n",
        "    <tr>\n",
        "        <th style=\"padding-left: 1em; padding-right: 1em; text-align: center\">Word 1</th>\n",
        "        <th style=\"padding-left: 1em; padding-right: 1em; text-align: center\">Word 2</th>\n",
        "        <th style=\"padding-left: 1em; padding-right: 1em; text-align: center\">Baseline</th>\n",
        "        <th style=\"padding-left: 1em; padding-right: 1em; text-align: center\">Co-occurrence</th>\n",
        "    </tr>\n",
        "    <tr>\n",
        "        <td style=\"padding-left: 1em; padding-right: 1em; text-align: center; vertical-align: top\">nba</td>\n",
        "        <td style=\"padding-left: 1em; padding-right: 1em; text-align: center; vertical-align: top\">offer</td>\n",
        "        <td style=\"padding-left: 1em; padding-right: 1em; text-align: center; vertical-align: top\">4.477645869647233e-06</td>\n",
        "        <td style=\"padding-left: 1em; padding-right: 1em; text-align: center; vertical-align: top\">1.1547884167793066e-06</td>\n",
        "    </tr>\n",
        "    <tr>\n",
        "        <td style=\"padding-left: 1em; padding-right: 1em; text-align: center; vertical-align: top\">tryin</td>\n",
        "        <td style=\"padding-left: 1em; padding-right: 1em; text-align: center; vertical-align: top\">w</td>\n",
        "        <td style=\"padding-left: 1em; padding-right: 1em; text-align: center; vertical-align: top\">1.7221714883258588e-05</td>\n",
        "        <td style=\"padding-left: 1em; padding-right: 1em; text-align: center; vertical-align: top\">8.6609131258448e-07</td>\n",
        "    </tr>\n",
        "    <tr>\n",
        "        <td style=\"padding-left: 1em; padding-right: 1em; text-align: center; vertical-align: top\">got</td>\n",
        "        <td style=\"padding-left: 1em; padding-right: 1em; text-align: center; vertical-align: top\">bread</td>\n",
        "        <td style=\"padding-left: 1em; padding-right: 1em; text-align: center; vertical-align: top\">3.3524938306076716e-05</td>\n",
        "        <td style=\"padding-left: 1em; padding-right: 1em; text-align: center; vertical-align: top\">1.1547884167793066e-06</td>\n",
        "    </tr>\n",
        "    <tr>\n",
        "        <td style=\"padding-left: 1em; padding-right: 1em; text-align: center; vertical-align: top\">someth</td>\n",
        "        <td style=\"padding-left: 1em; padding-right: 1em; text-align: center; vertical-align: top\">diff</td>\n",
        "        <td style=\"padding-left: 1em; padding-right: 1em; text-align: center; vertical-align: top\">7.462743116078721e-06</td>\n",
        "        <td style=\"padding-left: 1em; padding-right: 1em; text-align: center; vertical-align: top\">1.1547884167793066e-06</td>\n",
        "    </tr>\n",
        "    <tr>\n",
        "        <td style=\"padding-left: 1em; padding-right: 1em; text-align: center; vertical-align: top\">peopl</td>\n",
        "        <td style=\"padding-left: 1em; padding-right: 1em; text-align: center; vertical-align: top\">counselor</td>\n",
        "        <td style=\"padding-left: 1em; padding-right: 1em; text-align: center; vertical-align: top\">6.888685953303435e-07</td>\n",
        "        <td style=\"padding-left: 1em; padding-right: 1em; text-align: center; vertical-align: top\">1.4434855209741332e-06</td>\n",
        "    </tr>\n",
        "    <tr>\n",
        "        <td style=\"padding-left: 1em; padding-right: 1em; text-align: center; vertical-align: top\">polic</td>\n",
        "        <td style=\"padding-left: 1em; padding-right: 1em; text-align: center; vertical-align: top\">scam</td>\n",
        "        <td style=\"padding-left: 1em; padding-right: 1em; text-align: center; vertical-align: top\">2.640662948766317e-06</td>\n",
        "        <td style=\"padding-left: 1em; padding-right: 1em; text-align: center; vertical-align: top\">1.0537444303111173e-05</td>\n",
        "    </tr>\n",
        "    <tr>\n",
        "        <td style=\"padding-left: 1em; padding-right: 1em; text-align: center; vertical-align: top\">fuck</td>\n",
        "        <td style=\"padding-left: 1em; padding-right: 1em; text-align: center; vertical-align: top\">300</td>\n",
        "        <td style=\"padding-left: 1em; padding-right: 1em; text-align: center; vertical-align: top\">3.214720111541603e-06</td>\n",
        "        <td style=\"padding-left: 1em; padding-right: 1em; text-align: center; vertical-align: top\">1.73218262516896e-06</td>\n",
        "    </tr>\n",
        "    <tr>\n",
        "        <td style=\"padding-left: 1em; padding-right: 1em; text-align: center; vertical-align: top\">convict</td>\n",
        "        <td style=\"padding-left: 1em; padding-right: 1em; text-align: center; vertical-align: top\">go</td>\n",
        "        <td style=\"padding-left: 1em; padding-right: 1em; text-align: center; vertical-align: top\">9.18491460440458e-07</td>\n",
        "        <td style=\"padding-left: 1em; padding-right: 1em; text-align: center; vertical-align: top\">8.6609131258448e-07</td>\n",
        "    </tr>\n",
        "    <tr>\n",
        "        <td style=\"padding-left: 1em; padding-right: 1em; text-align: center; vertical-align: top\">waterloo</td>\n",
        "        <td style=\"padding-left: 1em; padding-right: 1em; text-align: center; vertical-align: top\">polic</td>\n",
        "        <td style=\"padding-left: 1em; padding-right: 1em; text-align: center; vertical-align: top\">1.2629257581056297e-06</td>\n",
        "        <td style=\"padding-left: 1em; padding-right: 1em; text-align: center; vertical-align: top\">8.6609131258448e-07</td>\n",
        "    </tr>\n",
        "    <tr>\n",
        "        <td style=\"padding-left: 1em; padding-right: 1em; text-align: center; vertical-align: top\">1st</td>\n",
        "        <td style=\"padding-left: 1em; padding-right: 1em; text-align: center; vertical-align: top\">seem</td>\n",
        "        <td style=\"padding-left: 1em; padding-right: 1em; text-align: center; vertical-align: top\">7.807177413743893e-06</td>\n",
        "        <td style=\"padding-left: 1em; padding-right: 1em; text-align: center; vertical-align: top\">5.052199323409467e-06</td>\n",
        "    </tr>\n",
        "</table>\n",
        "[10 rows x 4 columns]<br/>\n",
        "</div>"
       ],
       "metadata": {},
       "output_type": "pyout",
       "prompt_number": 8,
       "text": [
        "Columns:\n",
        "\tWord 1\tstr\n",
        "\tWord 2\tstr\n",
        "\tBaseline\tstr\n",
        "\tCo-occurrence\tstr\n",
        "\n",
        "Rows: 10\n",
        "\n",
        "Data:\n",
        "+----------+-----------+------------------------+------------------------+\n",
        "|  Word 1  |   Word 2  |        Baseline        |     Co-occurrence      |\n",
        "+----------+-----------+------------------------+------------------------+\n",
        "|   nba    |   offer   | 4.477645869647233e-06  | 1.1547884167793066e-06 |\n",
        "|  tryin   |     w     | 1.7221714883258588e-05 |  8.6609131258448e-07   |\n",
        "|   got    |   bread   | 3.3524938306076716e-05 | 1.1547884167793066e-06 |\n",
        "|  someth  |    diff   | 7.462743116078721e-06  | 1.1547884167793066e-06 |\n",
        "|  peopl   | counselor | 6.888685953303435e-07  | 1.4434855209741332e-06 |\n",
        "|  polic   |    scam   | 2.640662948766317e-06  | 1.0537444303111173e-05 |\n",
        "|   fuck   |    300    | 3.214720111541603e-06  |  1.73218262516896e-06  |\n",
        "| convict  |     go    |  9.18491460440458e-07  |  8.6609131258448e-07   |\n",
        "| waterloo |   polic   | 1.2629257581056297e-06 |  8.6609131258448e-07   |\n",
        "|   1st    |    seem   | 7.807177413743893e-06  | 5.052199323409467e-06  |\n",
        "+----------+-----------+------------------------+------------------------+\n",
        "[10 rows x 4 columns]"
       ]
      }
     ],
     "prompt_number": 8
    },
    {
     "cell_type": "heading",
     "level": 3,
     "metadata": {},
     "source": [
      "Comparing the Networks"
     ]
    },
    {
     "cell_type": "code",
     "collapsed": false,
     "input": [
      "#We will take the difference between the baseline and the rumor data for each co-occurence pair.\n",
      "edge_difference = combined.apply(lambda x: float(x['Co-occurrence']) - float(x['Baseline']))\n",
      "combined.add_column(edge_difference,'Difference')\n",
      "\n",
      "#Find the point where \n",
      "combined_diff = combined.select_column('Difference')\n",
      "combined_max = combined_diff.max()\n",
      "\n",
      "combined_mean = combined_diff.mean()\n",
      "combined_std = combined_diff.std()\n",
      "z_threshold = combined_mean + (2*combined_std) #Z-Score of +2\n",
      "\n",
      "#Filter our combined edgeset so we are left with the outliers from the right-side of the distribution.\n",
      "outlier_col = combined.apply(lambda x: bool(x['Difference']>= z_threshold))\n",
      "combined.add_column(outlier_col,'is_outlier')\n",
      "print combined.head()\n",
      "\n",
      "interesting = combined.filter_by([True],'is_outlier')"
     ],
     "language": "python",
     "metadata": {},
     "outputs": [
      {
       "output_type": "stream",
       "stream": "stdout",
       "text": [
        "+----------+-----------+------------------------+------------------------+\n",
        "|  Word 1  |   Word 2  |        Baseline        |     Co-occurrence      |\n",
        "+----------+-----------+------------------------+------------------------+\n",
        "|   nba    |   offer   | 4.477645869647233e-06  | 1.1547884167793066e-06 |\n",
        "|  tryin   |     w     | 1.7221714883258588e-05 |  8.6609131258448e-07   |\n",
        "|   got    |   bread   | 3.3524938306076716e-05 | 1.1547884167793066e-06 |\n",
        "|  someth  |    diff   | 7.462743116078721e-06  | 1.1547884167793066e-06 |\n",
        "|  peopl   | counselor | 6.888685953303435e-07  | 1.4434855209741332e-06 |\n",
        "|  polic   |    scam   | 2.640662948766317e-06  | 1.0537444303111173e-05 |\n",
        "|   fuck   |    300    | 3.214720111541603e-06  |  1.73218262516896e-06  |\n",
        "| convict  |     go    |  9.18491460440458e-07  |  8.6609131258448e-07   |\n",
        "| waterloo |   polic   | 1.2629257581056297e-06 |  8.6609131258448e-07   |\n",
        "|   1st    |    seem   | 7.807177413743893e-06  | 5.052199323409467e-06  |\n",
        "+----------+-----------+------------------------+------------------------+\n",
        "+--------------------+------------+\n",
        "|     Difference     | is_outlier |\n",
        "+--------------------+------------+\n",
        "| -3.32285745287e-06 |     0      |\n",
        "| -1.63556235707e-05 |     0      |\n",
        "| -3.23701498893e-05 |     0      |\n",
        "| -6.3079546993e-06  |     0      |\n",
        "| 7.54616925644e-07  |     0      |\n",
        "| 7.89678135434e-06  |     0      |\n",
        "| -1.48253748637e-06 |     0      |\n",
        "| -5.2400147856e-08  |     0      |\n",
        "| -3.96834445521e-07 |     0      |\n",
        "| -2.75497809033e-06 |     0      |\n",
        "+--------------------+------------+\n",
        "[10 rows x 6 columns]\n",
        "\n"
       ]
      }
     ],
     "prompt_number": 9
    },
    {
     "cell_type": "code",
     "collapsed": false,
     "input": [
      "combined.save('/Users/Logan/Code/DRG/rumor_analytics/csv/boston_no_rt_full.csv','csv')"
     ],
     "language": "python",
     "metadata": {},
     "outputs": [],
     "prompt_number": 10
    },
    {
     "cell_type": "heading",
     "level": 3,
     "metadata": {},
     "source": [
      "Viewing In GraphLab"
     ]
    },
    {
     "cell_type": "code",
     "collapsed": false,
     "input": [
      "interesting_gl = interesting.topk('Difference', 110)\n",
      "\n",
      "#Get the word-names for our interesting rows.\n",
      "temp = interesting_gl.select_column('Word 1').append(interesting_gl.select_column('Word 2')).unique()\n",
      "verts = rumor_verts.filter_by(temp,'word')\n",
      "verts.rename({'word':'__id'})\n",
      "\n",
      "\n",
      "#Create an SGraph so we can visualize the data:\n",
      "differenceGraph = gl.SGraph(vertices=verts, edges=interesting_gl, vid_field='__id',src_field='Word 1', dst_field='Word 2')\n",
      "\n",
      "#Now lets take a look:\n",
      "differenceGraph.show(vlabel='__id', elabel='Co-occurrence', elabel_hover=True)"
     ],
     "language": "python",
     "metadata": {},
     "outputs": [],
     "prompt_number": 11
    },
    {
     "cell_type": "heading",
     "level": 3,
     "metadata": {},
     "source": [
      "Finding Cliques"
     ]
    },
    {
     "cell_type": "code",
     "collapsed": false,
     "input": [
      "#Export the edgelist.\n",
      "#combined.rename({'Word 1':'Source','Word 2':'Target','Difference':'Weight'}).save('boston_diff_e.csv',format='csv')\n",
      "interesting.remove_columns(['Co-occurrence','Baseline','is_outlier'])\n",
      "interesting.save('/Users/Logan/Code/DRG/rumor_analytics/csv/boston_no_rt_filtered.csv',format='csv')"
     ],
     "language": "python",
     "metadata": {},
     "outputs": [],
     "prompt_number": 12
    },
    {
     "cell_type": "code",
     "collapsed": false,
     "input": [
      "#Import our graph to NetworkX\n",
      "g = None\n",
      "headers = None\n",
      "with open('boston_diff_filtered.csv','rb') as f:\n",
      "    headers = f.readline()\n",
      "    g = nx.read_weighted_edgelist(f, comments='#', delimiter=',', encoding='utf-8')\n",
      "    \n",
      "nx.info(g)"
     ],
     "language": "python",
     "metadata": {},
     "outputs": []
    },
    {
     "cell_type": "heading",
     "level": 3,
     "metadata": {},
     "source": [
      "Running the Clique-Finding Algorithm"
     ]
    },
    {
     "cell_type": "code",
     "collapsed": false,
     "input": [
      "#cliques = list(nx.find_cliques(g))\n",
      "#print cliques"
     ],
     "language": "python",
     "metadata": {},
     "outputs": []
    },
    {
     "cell_type": "code",
     "collapsed": false,
     "input": [],
     "language": "python",
     "metadata": {},
     "outputs": []
    }
   ],
   "metadata": {}
  }
 ]
}