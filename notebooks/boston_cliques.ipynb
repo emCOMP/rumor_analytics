{
 "metadata": {
  "name": "",
  "signature": "sha256:1c4b4a681b3f6acf77be4f7ced5c6033e86c3aed772cf5bd8aec218c0548f262"
 },
 "nbformat": 3,
 "nbformat_minor": 0,
 "worksheets": [
  {
   "cells": [
    {
     "cell_type": "heading",
     "level": 3,
     "metadata": {},
     "source": [
      "Importing and Formating Our Data"
     ]
    },
    {
     "cell_type": "code",
     "collapsed": false,
     "input": [
      "import graphlab as gl\n",
      "import networkx as nx\n",
      "\n",
      "baseline_path = \"/Users/Logan/Code/rumor_analytics/csv/baseline_jan6_e_wNames.csv\"\n",
      "rumor_path = \"/Users/Logan/Code/rumor_analytics/csv/boston_no_subjectives_e_wNames.csv\"\n",
      "rumor_vert_path = \"/Users/Logan/Code/rumor_analytics/csv/boston_no_subjectives_v.csv\"\n",
      "\n",
      "baseline_edges = gl.SFrame.read_csv(baseline_path, True)\n",
      "rumor_edges = gl.SFrame.read_csv(rumor_path, True)\n",
      "rumor_verts = gl.SFrame.read_csv(rumor_vert_path, True)\n",
      "#Let's see what we have imported.\n",
      "baseline_edges.head()\n",
      "rumor_edges.head()"
     ],
     "language": "python",
     "metadata": {},
     "outputs": [
      {
       "output_type": "stream",
       "stream": "stderr",
       "text": [
        "[WARNING] Numpy version 1.6.2 is not supported. Minimum required version: 1.8.0. Numpy support will be disabled.\n"
       ]
      },
      {
       "output_type": "stream",
       "stream": "stderr",
       "text": [
        "[INFO] Start server at: ipc:///tmp/graphlab_server-85084 - Server binary: /Library/Python/2.7/site-packages/graphlab/unity_server - Server log: /tmp/graphlab_server_1421807254.log\n"
       ]
      },
      {
       "output_type": "stream",
       "stream": "stderr",
       "text": [
        "[INFO] GraphLab Server Version: 1.2.1\n"
       ]
      },
      {
       "html": [
        "<pre>PROGRESS: Finished parsing file /Users/Logan/Code/rumor_analytics/csv/baseline_jan6_e_wNames.csv</pre>"
       ],
       "metadata": {},
       "output_type": "display_data",
       "text": [
        "PROGRESS: Finished parsing file /Users/Logan/Code/rumor_analytics/csv/baseline_jan6_e_wNames.csv"
       ]
      },
      {
       "html": [
        "<pre>PROGRESS: Parsing completed. Parsed 100 lines in 1.32479 secs.</pre>"
       ],
       "metadata": {},
       "output_type": "display_data",
       "text": [
        "PROGRESS: Parsing completed. Parsed 100 lines in 1.32479 secs."
       ]
      },
      {
       "output_type": "stream",
       "stream": "stdout",
       "text": [
        "cannot import name hashtable\n",
        "Could not detect types. Using str for each column."
       ]
      },
      {
       "html": [
        "<pre>PROGRESS: Finished parsing file /Users/Logan/Code/rumor_analytics/csv/baseline_jan6_e_wNames.csv</pre>"
       ],
       "metadata": {},
       "output_type": "display_data",
       "text": [
        "PROGRESS: Finished parsing file /Users/Logan/Code/rumor_analytics/csv/baseline_jan6_e_wNames.csv"
       ]
      },
      {
       "html": [
        "<pre>PROGRESS: Parsing completed. Parsed 3047383 lines in 2.8995 secs.</pre>"
       ],
       "metadata": {},
       "output_type": "display_data",
       "text": [
        "PROGRESS: Parsing completed. Parsed 3047383 lines in 2.8995 secs."
       ]
      },
      {
       "html": [
        "<pre>PROGRESS: Finished parsing file /Users/Logan/Code/rumor_analytics/csv/boston_no_subjectives_e_wNames.csv</pre>"
       ],
       "metadata": {},
       "output_type": "display_data",
       "text": [
        "PROGRESS: Finished parsing file /Users/Logan/Code/rumor_analytics/csv/boston_no_subjectives_e_wNames.csv"
       ]
      },
      {
       "html": [
        "<pre>PROGRESS: Parsing completed. Parsed 100 lines in 0.464785 secs.</pre>"
       ],
       "metadata": {},
       "output_type": "display_data",
       "text": [
        "PROGRESS: Parsing completed. Parsed 100 lines in 0.464785 secs."
       ]
      },
      {
       "output_type": "stream",
       "stream": "stdout",
       "text": [
        "\n",
        "Could not detect types. Using str for each column."
       ]
      },
      {
       "html": [
        "<pre>PROGRESS: Finished parsing file /Users/Logan/Code/rumor_analytics/csv/boston_no_subjectives_e_wNames.csv</pre>"
       ],
       "metadata": {},
       "output_type": "display_data",
       "text": [
        "PROGRESS: Finished parsing file /Users/Logan/Code/rumor_analytics/csv/boston_no_subjectives_e_wNames.csv"
       ]
      },
      {
       "html": [
        "<pre>PROGRESS: Parsing completed. Parsed 1372269 lines in 1.26096 secs.</pre>"
       ],
       "metadata": {},
       "output_type": "display_data",
       "text": [
        "PROGRESS: Parsing completed. Parsed 1372269 lines in 1.26096 secs."
       ]
      },
      {
       "html": [
        "<pre>PROGRESS: Finished parsing file /Users/Logan/Code/rumor_analytics/csv/boston_no_subjectives_v.csv</pre>"
       ],
       "metadata": {},
       "output_type": "display_data",
       "text": [
        "PROGRESS: Finished parsing file /Users/Logan/Code/rumor_analytics/csv/boston_no_subjectives_v.csv"
       ]
      },
      {
       "html": [
        "<pre>PROGRESS: Parsing completed. Parsed 100 lines in 0.021651 secs.</pre>"
       ],
       "metadata": {},
       "output_type": "display_data",
       "text": [
        "PROGRESS: Parsing completed. Parsed 100 lines in 0.021651 secs."
       ]
      },
      {
       "output_type": "stream",
       "stream": "stdout",
       "text": [
        "\n",
        "Could not detect types. Using str for each column."
       ]
      },
      {
       "html": [
        "<pre>PROGRESS: Finished parsing file /Users/Logan/Code/rumor_analytics/csv/boston_no_subjectives_v.csv</pre>"
       ],
       "metadata": {},
       "output_type": "display_data",
       "text": [
        "PROGRESS: Finished parsing file /Users/Logan/Code/rumor_analytics/csv/boston_no_subjectives_v.csv"
       ]
      },
      {
       "html": [
        "<pre>PROGRESS: Parsing completed. Parsed 48924 lines in 0.042804 secs.</pre>"
       ],
       "metadata": {},
       "output_type": "display_data",
       "text": [
        "PROGRESS: Parsing completed. Parsed 48924 lines in 0.042804 secs."
       ]
      },
      {
       "output_type": "stream",
       "stream": "stdout",
       "text": [
        "\n"
       ]
      },
      {
       "html": [
        "<div style=\"max-height:1000px;max-width:1500px;overflow:auto;\"><table frame=\"box\" rules=\"cols\">\n",
        "    <tr>\n",
        "        <th style=\"padding-left: 1em; padding-right: 1em; text-align: center\">Word 1</th>\n",
        "        <th style=\"padding-left: 1em; padding-right: 1em; text-align: center\">Word 2</th>\n",
        "        <th style=\"padding-left: 1em; padding-right: 1em; text-align: center\">Co-occurrence</th>\n",
        "    </tr>\n",
        "    <tr>\n",
        "        <td style=\"padding-left: 1em; padding-right: 1em; text-align: center; vertical-align: top\">famili</td>\n",
        "        <td style=\"padding-left: 1em; padding-right: 1em; text-align: center; vertical-align: top\">organ</td>\n",
        "        <td style=\"padding-left: 1em; padding-right: 1em; text-align: center; vertical-align: top\">62</td>\n",
        "    </tr>\n",
        "    <tr>\n",
        "        <td style=\"padding-left: 1em; padding-right: 1em; text-align: center; vertical-align: top\">kita</td>\n",
        "        <td style=\"padding-left: 1em; padding-right: 1em; text-align: center; vertical-align: top\">harus</td>\n",
        "        <td style=\"padding-left: 1em; padding-right: 1em; text-align: center; vertical-align: top\">12</td>\n",
        "    </tr>\n",
        "    <tr>\n",
        "        <td style=\"padding-left: 1em; padding-right: 1em; text-align: center; vertical-align: top\">social</td>\n",
        "        <td style=\"padding-left: 1em; padding-right: 1em; text-align: center; vertical-align: top\">rememb</td>\n",
        "        <td style=\"padding-left: 1em; padding-right: 1em; text-align: center; vertical-align: top\">39</td>\n",
        "    </tr>\n",
        "    <tr>\n",
        "        <td style=\"padding-left: 1em; padding-right: 1em; text-align: center; vertical-align: top\">alum</td>\n",
        "        <td style=\"padding-left: 1em; padding-right: 1em; text-align: center; vertical-align: top\">may</td>\n",
        "        <td style=\"padding-left: 1em; padding-right: 1em; text-align: center; vertical-align: top\">9</td>\n",
        "    </tr>\n",
        "    <tr>\n",
        "        <td style=\"padding-left: 1em; padding-right: 1em; text-align: center; vertical-align: top\">reason</td>\n",
        "        <td style=\"padding-left: 1em; padding-right: 1em; text-align: center; vertical-align: top\">assum</td>\n",
        "        <td style=\"padding-left: 1em; padding-right: 1em; text-align: center; vertical-align: top\">28</td>\n",
        "    </tr>\n",
        "    <tr>\n",
        "        <td style=\"padding-left: 1em; padding-right: 1em; text-align: center; vertical-align: top\">updat</td>\n",
        "        <td style=\"padding-left: 1em; padding-right: 1em; text-align: center; vertical-align: top\">tamerlan</td>\n",
        "        <td style=\"padding-left: 1em; padding-right: 1em; text-align: center; vertical-align: top\">591</td>\n",
        "    </tr>\n",
        "    <tr>\n",
        "        <td style=\"padding-left: 1em; padding-right: 1em; text-align: center; vertical-align: top\">dari</td>\n",
        "        <td style=\"padding-left: 1em; padding-right: 1em; text-align: center; vertical-align: top\">darah</td>\n",
        "        <td style=\"padding-left: 1em; padding-right: 1em; text-align: center; vertical-align: top\">38</td>\n",
        "    </tr>\n",
        "    <tr>\n",
        "        <td style=\"padding-left: 1em; padding-right: 1em; text-align: center; vertical-align: top\">instruct</td>\n",
        "        <td style=\"padding-left: 1em; padding-right: 1em; text-align: center; vertical-align: top\">practic</td>\n",
        "        <td style=\"padding-left: 1em; padding-right: 1em; text-align: center; vertical-align: top\">6</td>\n",
        "    </tr>\n",
        "    <tr>\n",
        "        <td style=\"padding-left: 1em; padding-right: 1em; text-align: center; vertical-align: top\">mengecam</td>\n",
        "        <td style=\"padding-left: 1em; padding-right: 1em; text-align: center; vertical-align: top\">kera</td>\n",
        "        <td style=\"padding-left: 1em; padding-right: 1em; text-align: center; vertical-align: top\">181</td>\n",
        "    </tr>\n",
        "    <tr>\n",
        "        <td style=\"padding-left: 1em; padding-right: 1em; text-align: center; vertical-align: top\">lot</td>\n",
        "        <td style=\"padding-left: 1em; padding-right: 1em; text-align: center; vertical-align: top\">georg</td>\n",
        "        <td style=\"padding-left: 1em; padding-right: 1em; text-align: center; vertical-align: top\">6</td>\n",
        "    </tr>\n",
        "</table>\n",
        "[10 rows x 3 columns]<br/>\n",
        "</div>"
       ],
       "metadata": {},
       "output_type": "pyout",
       "prompt_number": 1,
       "text": [
        "Columns:\n",
        "\tWord 1\tstr\n",
        "\tWord 2\tstr\n",
        "\tCo-occurrence\tstr\n",
        "\n",
        "Rows: 10\n",
        "\n",
        "Data:\n",
        "+----------+----------+---------------+\n",
        "|  Word 1  |  Word 2  | Co-occurrence |\n",
        "+----------+----------+---------------+\n",
        "|  famili  |  organ   |       62      |\n",
        "|   kita   |  harus   |       12      |\n",
        "|  social  |  rememb  |       39      |\n",
        "|   alum   |   may    |       9       |\n",
        "|  reason  |  assum   |       28      |\n",
        "|  updat   | tamerlan |      591      |\n",
        "|   dari   |  darah   |       38      |\n",
        "| instruct | practic  |       6       |\n",
        "| mengecam |   kera   |      181      |\n",
        "|   lot    |  georg   |       6       |\n",
        "+----------+----------+---------------+\n",
        "[10 rows x 3 columns]"
       ]
      }
     ],
     "prompt_number": 1
    },
    {
     "cell_type": "heading",
     "level": 3,
     "metadata": {},
     "source": [
      "Filtering the Baseline Data"
     ]
    },
    {
     "cell_type": "code",
     "collapsed": false,
     "input": [
      "#To get the subgraph of the baseline data \n",
      "#which corresponds to our rumor data, we will filter the baseline edge-list\n",
      "#by both of the 'Word' columns of our rumor data.\n",
      "\n",
      "rumor_words = rumor_edges.select_column(\"Word 1\") #Get the first word column.\n",
      "rumor_words = rumor_words.append(rumor_edges.select_column(\"Word 2\")) #Glue the second word column to the end of the first.\n",
      "\n",
      "#All of the words in the rumor set.\n",
      "rumor_words = rumor_words.unique()\n",
      "\n",
      "#All of the words which appear in BOTH sets.\n",
      "filtered_baseline = baseline_edges.filter_by(rumor_words, \"Word 1\").filter_by(rumor_words, \"Word 2\")\n",
      "\n",
      "#All baseline words.\n",
      "baseline_words = filtered_baseline.select_column(\"Word 1\").append(filtered_baseline.select_column(\"Word 2\"))\n",
      "baseline_words = baseline_words.unique()\n",
      "\n",
      "#Words which appear ONLY IN THE RUMOR SET\n",
      "rumor_only1 = rumor_edges.filter_by(baseline_words,\"Word 1\", exclude=True)\n",
      "rumor_only2 = rumor_edges.filter_by(baseline_words,\"Word 2\", exclude=True)\n",
      "rumor_only = rumor_only1.append(rumor_only2)\n",
      "rumor_only.show()\n",
      "\n",
      "#Now we'll add the terms that only occur in the rumor set to the baseline with a count of 0.\n",
      "rumor_only.remove_column('Co-occurrence')\n",
      "rumor_only.add_column(gl.SArray.from_const('0', rumor_only.num_rows()),'Co-occurrence') #Add a column of zeros.\n",
      "print rumor_only\n",
      "print 'Filtered', rumor_only.filter_by(['sunil'],'Word 1')\n",
      "filtered_baseline = filtered_baseline.append(rumor_only)\n",
      "print 'Before', filtered_baseline.filter_by(['craft'],'Word 1')\n",
      "\n",
      "#Change the name of co-occurence so we can tell the rumor and baseline counts appart.\n",
      "filtered_baseline.rename({'Co-occurrence':'Baseline'})\n",
      "\n",
      "#Remove search terms and rt terms.\n",
      "rumor_edges = rumor_edges.filter_by([\"boston\", \"marathon\", \"bomb\", \"explos\", \"blast\", 'r', 'rt'],\"Word 1\", exclude=True)\n",
      "rumor_edges = rumor_edges.filter_by([\"boston\", \"marathon\", \"bomb\", \"explos\", \"blast\", 'r', 'rt'],\"Word 2\", exclude=True)\n",
      "\n",
      "\n",
      "#Debug check\n",
      "print 'After', filtered_baseline.filter_by(['craft'],'Word 1')\n",
      "\n",
      "#Now let's join the counts into one SFrame (We will join a row if the pair of words matches.)\n",
      "combined_order = filtered_baseline.join(rumor_edges, on={'Word 1':'Word 1', 'Word 2':'Word 2'}) #All in ordr matches match.\n",
      "combined_reverse = filtered_baseline.join(rumor_edges, on={'Word 1':'Word 2', 'Word 2':'Word 1'}) #All reverse matches.\n",
      "\n",
      "\n",
      "combined = combined_order.append(combined_reverse)\n",
      "\n",
      "combined.head()"
     ],
     "language": "python",
     "metadata": {},
     "outputs": [
      {
       "output_type": "stream",
       "stream": "stdout",
       "text": [
        "+----------------+--------+---------------+\n",
        "|     Word 1     | Word 2 | Co-occurrence |\n",
        "+----------------+--------+---------------+\n",
        "|    mengecam    |  kera  |       0       |\n",
        "|      bulu      | orang  |       0       |\n",
        "|      muda      |  mnjd  |       0       |\n",
        "|     korban     |  dari  |       0       |\n",
        "|   applebaum    | eerili |       0       |\n",
        "|  boostlondon   |  let   |       0       |\n",
        "|  timebomb2000  |  post  |       0       |\n",
        "|     berani     |  msh   |       0       |\n",
        "| bostonmarathon |  psi   |       0       |\n",
        "|      gome      | custom |       0       |\n",
        "|      ...       |  ...   |      ...      |\n",
        "+----------------+--------+---------------+\n",
        "[365030 rows x 3 columns]\n",
        "Note: Only the head of the SFrame is printed.\n",
        "You can use print_rows(num_rows=m, num_columns=n) to print more rows and columns.\n",
        "Filtered "
       ]
      },
      {
       "output_type": "stream",
       "stream": "stdout",
       "text": [
        "+--------+----------+---------------+\n",
        "| Word 1 |  Word 2  | Co-occurrence |\n",
        "+--------+----------+---------------+\n",
        "| sunil  |    ri    |       0       |\n",
        "| sunil  | facepalm |       0       |\n",
        "| sunil  |  4chan   |       0       |\n",
        "| sunil  |  global  |       0       |\n",
        "| sunil  |   nose   |       0       |\n",
        "| sunil  |  incid   |       0       |\n",
        "| sunil  |  close   |       0       |\n",
        "| sunil  |  kumar   |       0       |\n",
        "| sunil  |  bombin  |       0       |\n",
        "| sunil  | western  |       0       |\n",
        "|  ...   |   ...    |      ...      |\n",
        "+--------+----------+---------------+\n",
        "[467 rows x 3 columns]\n",
        "Note: Only the head of the SFrame is printed.\n",
        "You can use print_rows(num_rows=m, num_columns=n) to print more rows and columns.\n",
        "Before "
       ]
      },
      {
       "output_type": "stream",
       "stream": "stdout",
       "text": [
        "+--------+---------+---------------+\n",
        "| Word 1 |  Word 2 | Co-occurrence |\n",
        "+--------+---------+---------------+\n",
        "| craft  |   bead  |       24      |\n",
        "| craft  |   4pm   |       11      |\n",
        "| craft  |   non   |       7       |\n",
        "| craft  |  discov |       7       |\n",
        "| craft  | comment |       6       |\n",
        "| craft  |  fight  |       6       |\n",
        "| craft  |  month  |       22      |\n",
        "| craft  |   away  |       8       |\n",
        "| craft  |   stay  |       7       |\n",
        "| craft  | harvest |       7       |\n",
        "|  ...   |   ...   |      ...      |\n",
        "+--------+---------+---------------+\n",
        "[328 rows x 3 columns]\n",
        "Note: Only the head of the SFrame is printed.\n",
        "You can use print_rows(num_rows=m, num_columns=n) to print more rows and columns.\n",
        "After"
       ]
      },
      {
       "output_type": "stream",
       "stream": "stdout",
       "text": [
        " +--------+---------+----------+\n",
        "| Word 1 |  Word 2 | Baseline |\n",
        "+--------+---------+----------+\n",
        "| craft  |   bead  |    24    |\n",
        "| craft  |   4pm   |    11    |\n",
        "| craft  |   non   |    7     |\n",
        "| craft  |  discov |    7     |\n",
        "| craft  | comment |    6     |\n",
        "| craft  |  fight  |    6     |\n",
        "| craft  |  month  |    22    |\n",
        "| craft  |   away  |    8     |\n",
        "| craft  |   stay  |    7     |\n",
        "| craft  | harvest |    7     |\n",
        "|  ...   |   ...   |   ...    |\n",
        "+--------+---------+----------+\n",
        "[328 rows x 3 columns]\n",
        "Note: Only the head of the SFrame is printed.\n",
        "You can use print_rows(num_rows=m, num_columns=n) to print more rows and columns.\n"
       ]
      },
      {
       "html": [
        "<div style=\"max-height:1000px;max-width:1500px;overflow:auto;\"><table frame=\"box\" rules=\"cols\">\n",
        "    <tr>\n",
        "        <th style=\"padding-left: 1em; padding-right: 1em; text-align: center\">Word 1</th>\n",
        "        <th style=\"padding-left: 1em; padding-right: 1em; text-align: center\">Word 2</th>\n",
        "        <th style=\"padding-left: 1em; padding-right: 1em; text-align: center\">Baseline</th>\n",
        "        <th style=\"padding-left: 1em; padding-right: 1em; text-align: center\">Co-occurrence</th>\n",
        "    </tr>\n",
        "    <tr>\n",
        "        <td style=\"padding-left: 1em; padding-right: 1em; text-align: center; vertical-align: top\">tryin</td>\n",
        "        <td style=\"padding-left: 1em; padding-right: 1em; text-align: center; vertical-align: top\">n</td>\n",
        "        <td style=\"padding-left: 1em; padding-right: 1em; text-align: center; vertical-align: top\">38</td>\n",
        "        <td style=\"padding-left: 1em; padding-right: 1em; text-align: center; vertical-align: top\">9</td>\n",
        "    </tr>\n",
        "    <tr>\n",
        "        <td style=\"padding-left: 1em; padding-right: 1em; text-align: center; vertical-align: top\">sinc</td>\n",
        "        <td style=\"padding-left: 1em; padding-right: 1em; text-align: center; vertical-align: top\">grant</td>\n",
        "        <td style=\"padding-left: 1em; padding-right: 1em; text-align: center; vertical-align: top\">7</td>\n",
        "        <td style=\"padding-left: 1em; padding-right: 1em; text-align: center; vertical-align: top\">10</td>\n",
        "    </tr>\n",
        "    <tr>\n",
        "        <td style=\"padding-left: 1em; padding-right: 1em; text-align: center; vertical-align: top\">toy</td>\n",
        "        <td style=\"padding-left: 1em; padding-right: 1em; text-align: center; vertical-align: top\">w</td>\n",
        "        <td style=\"padding-left: 1em; padding-right: 1em; text-align: center; vertical-align: top\">50</td>\n",
        "        <td style=\"padding-left: 1em; padding-right: 1em; text-align: center; vertical-align: top\">11</td>\n",
        "    </tr>\n",
        "    <tr>\n",
        "        <td style=\"padding-left: 1em; padding-right: 1em; text-align: center; vertical-align: top\">major</td>\n",
        "        <td style=\"padding-left: 1em; padding-right: 1em; text-align: center; vertical-align: top\">larg</td>\n",
        "        <td style=\"padding-left: 1em; padding-right: 1em; text-align: center; vertical-align: top\">18</td>\n",
        "        <td style=\"padding-left: 1em; padding-right: 1em; text-align: center; vertical-align: top\">40</td>\n",
        "    </tr>\n",
        "    <tr>\n",
        "        <td style=\"padding-left: 1em; padding-right: 1em; text-align: center; vertical-align: top\">nba</td>\n",
        "        <td style=\"padding-left: 1em; padding-right: 1em; text-align: center; vertical-align: top\">offer</td>\n",
        "        <td style=\"padding-left: 1em; padding-right: 1em; text-align: center; vertical-align: top\">22</td>\n",
        "        <td style=\"padding-left: 1em; padding-right: 1em; text-align: center; vertical-align: top\">6</td>\n",
        "    </tr>\n",
        "    <tr>\n",
        "        <td style=\"padding-left: 1em; padding-right: 1em; text-align: center; vertical-align: top\">polic</td>\n",
        "        <td style=\"padding-left: 1em; padding-right: 1em; text-align: center; vertical-align: top\">scam</td>\n",
        "        <td style=\"padding-left: 1em; padding-right: 1em; text-align: center; vertical-align: top\">22</td>\n",
        "        <td style=\"padding-left: 1em; padding-right: 1em; text-align: center; vertical-align: top\">30</td>\n",
        "    </tr>\n",
        "    <tr>\n",
        "        <td style=\"padding-left: 1em; padding-right: 1em; text-align: center; vertical-align: top\">would</td>\n",
        "        <td style=\"padding-left: 1em; padding-right: 1em; text-align: center; vertical-align: top\">experienc</td>\n",
        "        <td style=\"padding-left: 1em; padding-right: 1em; text-align: center; vertical-align: top\">15</td>\n",
        "        <td style=\"padding-left: 1em; padding-right: 1em; text-align: center; vertical-align: top\">8</td>\n",
        "    </tr>\n",
        "    <tr>\n",
        "        <td style=\"padding-left: 1em; padding-right: 1em; text-align: center; vertical-align: top\">piec</td>\n",
        "        <td style=\"padding-left: 1em; padding-right: 1em; text-align: center; vertical-align: top\">power</td>\n",
        "        <td style=\"padding-left: 1em; padding-right: 1em; text-align: center; vertical-align: top\">33</td>\n",
        "        <td style=\"padding-left: 1em; padding-right: 1em; text-align: center; vertical-align: top\">78</td>\n",
        "    </tr>\n",
        "    <tr>\n",
        "        <td style=\"padding-left: 1em; padding-right: 1em; text-align: center; vertical-align: top\">today</td>\n",
        "        <td style=\"padding-left: 1em; padding-right: 1em; text-align: center; vertical-align: top\">ac</td>\n",
        "        <td style=\"padding-left: 1em; padding-right: 1em; text-align: center; vertical-align: top\">83</td>\n",
        "        <td style=\"padding-left: 1em; padding-right: 1em; text-align: center; vertical-align: top\">6</td>\n",
        "    </tr>\n",
        "    <tr>\n",
        "        <td style=\"padding-left: 1em; padding-right: 1em; text-align: center; vertical-align: top\">today</td>\n",
        "        <td style=\"padding-left: 1em; padding-right: 1em; text-align: center; vertical-align: top\">ab</td>\n",
        "        <td style=\"padding-left: 1em; padding-right: 1em; text-align: center; vertical-align: top\">61</td>\n",
        "        <td style=\"padding-left: 1em; padding-right: 1em; text-align: center; vertical-align: top\">10</td>\n",
        "    </tr>\n",
        "</table>\n",
        "[10 rows x 4 columns]<br/>\n",
        "</div>"
       ],
       "metadata": {},
       "output_type": "pyout",
       "prompt_number": 2,
       "text": [
        "Columns:\n",
        "\tWord 1\tstr\n",
        "\tWord 2\tstr\n",
        "\tBaseline\tstr\n",
        "\tCo-occurrence\tstr\n",
        "\n",
        "Rows: 10\n",
        "\n",
        "Data:\n",
        "+--------+-----------+----------+---------------+\n",
        "| Word 1 |   Word 2  | Baseline | Co-occurrence |\n",
        "+--------+-----------+----------+---------------+\n",
        "| tryin  |     n     |    38    |       9       |\n",
        "|  sinc  |   grant   |    7     |       10      |\n",
        "|  toy   |     w     |    50    |       11      |\n",
        "| major  |    larg   |    18    |       40      |\n",
        "|  nba   |   offer   |    22    |       6       |\n",
        "| polic  |    scam   |    22    |       30      |\n",
        "| would  | experienc |    15    |       8       |\n",
        "|  piec  |   power   |    33    |       78      |\n",
        "| today  |     ac    |    83    |       6       |\n",
        "| today  |     ab    |    61    |       10      |\n",
        "+--------+-----------+----------+---------------+\n",
        "[10 rows x 4 columns]"
       ]
      }
     ],
     "prompt_number": 2
    },
    {
     "cell_type": "heading",
     "level": 3,
     "metadata": {},
     "source": [
      "Comparing the Networks"
     ]
    },
    {
     "cell_type": "code",
     "collapsed": false,
     "input": [
      "#We will take the difference between the baseline and the rumor data for each co-occurence pair.\n",
      "edge_difference = combined.apply(lambda x: int(x['Co-occurrence']) - int(x['Baseline']))\n",
      "combined.add_column(edge_difference,'Difference')\n",
      "\n",
      "#Find the point where \n",
      "combined_diff = combined.select_column('Difference')\n",
      "combined_max = combined_diff.max()\n",
      "\n",
      "combined_mean = combined_diff.mean()\n",
      "combined_std = combined_diff.std()\n",
      "z_threshold = int(combined_mean + (2*combined_std)) #Z-Score of +2\n",
      "\n",
      "#Filter our combined edgeset so we are left with the outliers from the right-side of the distribution.\n",
      "interesting = combined.filter_by(range(z_threshold,combined_max),'Difference')"
     ],
     "language": "python",
     "metadata": {},
     "outputs": [],
     "prompt_number": 3
    },
    {
     "cell_type": "code",
     "collapsed": false,
     "input": [
      "combined.save('boston_diff_full.csv','csv')"
     ],
     "language": "python",
     "metadata": {},
     "outputs": [],
     "prompt_number": 4
    },
    {
     "cell_type": "heading",
     "level": 3,
     "metadata": {},
     "source": [
      "Viewing In GraphLab"
     ]
    },
    {
     "cell_type": "code",
     "collapsed": false,
     "input": [
      "interesting_gl = interesting.topk('Difference', 110)\n",
      "\n",
      "#Get the word-names for our interesting rows.\n",
      "temp = interesting_gl.select_column('Word 1').append(interesting_gl.select_column('Word 2')).unique()\n",
      "verts = rumor_verts.filter_by(temp,'word')\n",
      "verts.rename({'word':'__id'})\n",
      "\n",
      "\n",
      "#Create an SGraph so we can visualize the data:\n",
      "differenceGraph = gl.SGraph(vertices=verts, edges=interesting_gl, vid_field='__id',src_field='Word 1', dst_field='Word 2')\n",
      "\n",
      "#Now lets take a look:\n",
      "differenceGraph.show(vlabel='__id', elabel='Co-occurrence', elabel_hover=True)"
     ],
     "language": "python",
     "metadata": {},
     "outputs": [],
     "prompt_number": 5
    },
    {
     "cell_type": "heading",
     "level": 3,
     "metadata": {},
     "source": [
      "Finding Cliques"
     ]
    },
    {
     "cell_type": "code",
     "collapsed": false,
     "input": [
      "#Export the edgelist.\n",
      "#combined.rename({'Word 1':'Source','Word 2':'Target','Difference':'Weight'}).save('boston_diff_e.csv',format='csv')\n",
      "interesting.remove_columns(['Co-occurrence','Baseline'])\n",
      "interesting.save('boston_diff_filtered.csv',format='csv')"
     ],
     "language": "python",
     "metadata": {},
     "outputs": [],
     "prompt_number": 6
    },
    {
     "cell_type": "code",
     "collapsed": false,
     "input": [
      "#Import our graph to NetworkX\n",
      "g = None\n",
      "headers = None\n",
      "with open('boston_diff_filtered.csv','rb') as f:\n",
      "    headers = f.readline()\n",
      "    g = nx.read_weighted_edgelist(f, comments='#', delimiter=',', encoding='utf-8')\n",
      "    \n",
      "nx.info(g)"
     ],
     "language": "python",
     "metadata": {},
     "outputs": []
    },
    {
     "cell_type": "heading",
     "level": 3,
     "metadata": {},
     "source": [
      "Running the Clique-Finding Algorithm"
     ]
    },
    {
     "cell_type": "code",
     "collapsed": false,
     "input": [
      "#cliques = list(nx.find_cliques(g))\n",
      "#print cliques"
     ],
     "language": "python",
     "metadata": {},
     "outputs": []
    },
    {
     "cell_type": "code",
     "collapsed": false,
     "input": [],
     "language": "python",
     "metadata": {},
     "outputs": []
    }
   ],
   "metadata": {}
  }
 ]
}